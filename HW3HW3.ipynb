{
  "cells": [
    {
      "cell_type": "markdown",
      "metadata": {
        "id": "g7yKTpjQPy91"
      },
      "source": [
        "# MAS DSE 200: Homework 3 - Matplotlib\n",
        "\n",
        "#### Tasks:\n",
        "\n",
        "- Introduction to Matplotlib.  \n",
        "  \n",
        "- Submission on Gradescope:\n",
        "  - Submit this Jupyter notebook to \"Homework 3\"\n",
        "\n",
        "#### Due date: Thursday, November 6, 2025, 11:59 PM\n",
        "\n",
        "---\n",
        "\n",
        "Remember: when in doubt, read the documentation first.\n",
        "\n",
        "Python - https://docs.python.org/3/\n",
        "\n",
        "NumPy - https://numpy.org/doc/stable/\n",
        "\n",
        "pandas - https://pandas.pydata.org/docs/\n",
        "\n",
        "matplotlib - https://matplotlib.org/stable/contents.html\n",
        "\n",
        "seaborn - https://seaborn.pydata.org/api.html"
      ]
    },
    {
      "cell_type": "markdown",
      "metadata": {
        "id": "2CRiNE6kPy92"
      },
      "source": [
        "## Instructions\n",
        "\n",
        "* You don’t need to explain your approach (unless specified) so please be concise in your submission.\n",
        "* To obtain full marks for a question, both the answer and the code should be correct.\n",
        "* Completely wrong (or missing) code with correct answer will result in zero marks."
      ]
    },
    {
      "cell_type": "markdown",
      "metadata": {
        "id": "StD7wVSyPy92"
      },
      "source": [
        "### Imports"
      ]
    },
    {
      "cell_type": "code",
      "execution_count": 1,
      "metadata": {
        "colab": {
          "base_uri": "https://localhost:8080/"
        },
        "id": "0FIuCJpYPy92",
        "outputId": "4434fef6-2986-430c-9e47-b496444b9694"
      },
      "outputs": [
        {
          "output_type": "stream",
          "name": "stdout",
          "text": [
            "Requirement already satisfied: pandas in /usr/local/lib/python3.12/dist-packages (2.2.2)\n",
            "Requirement already satisfied: numpy in /usr/local/lib/python3.12/dist-packages (2.0.2)\n",
            "Requirement already satisfied: matplotlib in /usr/local/lib/python3.12/dist-packages (3.10.0)\n",
            "Requirement already satisfied: seaborn in /usr/local/lib/python3.12/dist-packages (0.13.2)\n",
            "Requirement already satisfied: scikit-learn in /usr/local/lib/python3.12/dist-packages (1.6.1)\n",
            "Requirement already satisfied: python-dateutil>=2.8.2 in /usr/local/lib/python3.12/dist-packages (from pandas) (2.9.0.post0)\n",
            "Requirement already satisfied: pytz>=2020.1 in /usr/local/lib/python3.12/dist-packages (from pandas) (2025.2)\n",
            "Requirement already satisfied: tzdata>=2022.7 in /usr/local/lib/python3.12/dist-packages (from pandas) (2025.2)\n",
            "Requirement already satisfied: contourpy>=1.0.1 in /usr/local/lib/python3.12/dist-packages (from matplotlib) (1.3.3)\n",
            "Requirement already satisfied: cycler>=0.10 in /usr/local/lib/python3.12/dist-packages (from matplotlib) (0.12.1)\n",
            "Requirement already satisfied: fonttools>=4.22.0 in /usr/local/lib/python3.12/dist-packages (from matplotlib) (4.60.1)\n",
            "Requirement already satisfied: kiwisolver>=1.3.1 in /usr/local/lib/python3.12/dist-packages (from matplotlib) (1.4.9)\n",
            "Requirement already satisfied: packaging>=20.0 in /usr/local/lib/python3.12/dist-packages (from matplotlib) (25.0)\n",
            "Requirement already satisfied: pillow>=8 in /usr/local/lib/python3.12/dist-packages (from matplotlib) (11.3.0)\n",
            "Requirement already satisfied: pyparsing>=2.3.1 in /usr/local/lib/python3.12/dist-packages (from matplotlib) (3.2.5)\n",
            "Requirement already satisfied: scipy>=1.6.0 in /usr/local/lib/python3.12/dist-packages (from scikit-learn) (1.16.2)\n",
            "Requirement already satisfied: joblib>=1.2.0 in /usr/local/lib/python3.12/dist-packages (from scikit-learn) (1.5.2)\n",
            "Requirement already satisfied: threadpoolctl>=3.1.0 in /usr/local/lib/python3.12/dist-packages (from scikit-learn) (3.6.0)\n",
            "Requirement already satisfied: six>=1.5 in /usr/local/lib/python3.12/dist-packages (from python-dateutil>=2.8.2->pandas) (1.17.0)\n"
          ]
        }
      ],
      "source": [
        "%pip install pandas numpy matplotlib seaborn scikit-learn"
      ]
    },
    {
      "cell_type": "code",
      "execution_count": 2,
      "metadata": {
        "id": "fjt4cu6SPy93"
      },
      "outputs": [],
      "source": [
        "import pandas as pd\n",
        "import numpy as np\n",
        "import random\n",
        "import os\n",
        "import requests\n",
        "import matplotlib.pyplot as plt\n",
        "import seaborn as sns"
      ]
    },
    {
      "cell_type": "markdown",
      "metadata": {
        "id": "dlN2T9XAPy93"
      },
      "source": [
        "### Preliminaries\n",
        "\n",
        "Load the cars data into a Pandas DataFrame called cars_df."
      ]
    },
    {
      "cell_type": "code",
      "execution_count": 51,
      "metadata": {
        "id": "F6ezVJhkPy93"
      },
      "outputs": [],
      "source": [
        "thePath = \"./\"\n",
        "theFile = 'cars.csv'\n",
        "theLink = \"https://dse200.dev/Day3/cars.csv\"\n",
        "\n",
        "if not os.path.exists(thePath + theFile):\n",
        "    r = requests.get(theLink)\n",
        "    with open(thePath + theFile, 'wb') as f:\n",
        "        f.write(r.content)\n",
        "\n",
        "cars_df = pd.read_csv('cars.csv')"
      ]
    },
    {
      "cell_type": "code",
      "execution_count": 52,
      "metadata": {
        "colab": {
          "base_uri": "https://localhost:8080/"
        },
        "id": "eFn52NCaPy93",
        "outputId": "97728b96-a72d-4668-b0fe-170ae52deb38"
      },
      "outputs": [
        {
          "output_type": "execute_result",
          "data": {
            "text/plain": [
              "5076"
            ]
          },
          "metadata": {},
          "execution_count": 52
        }
      ],
      "source": [
        "len(cars_df)"
      ]
    },
    {
      "cell_type": "code",
      "execution_count": 53,
      "metadata": {
        "colab": {
          "base_uri": "https://localhost:8080/",
          "height": 348
        },
        "id": "4YDoGgFBPy93",
        "outputId": "b08589ea-8c10-4021-d350-255ccc280cc6"
      },
      "outputs": [
        {
          "output_type": "execute_result",
          "data": {
            "text/plain": [
              "   Dimensions.Height  Dimensions.Length  Dimensions.Width  \\\n",
              "0                140                143               202   \n",
              "1                140                143               202   \n",
              "2                140                143               202   \n",
              "3                140                143               202   \n",
              "4                140                143               202   \n",
              "\n",
              "  Engine Information.Driveline                Engine Information.Engine Type  \\\n",
              "0              All-wheel drive          Audi 3.2L 6 cylinder 250hp 236ft-lbs   \n",
              "1            Front-wheel drive  Audi 2.0L 4 cylinder 200 hp 207 ft-lbs Turbo   \n",
              "2            Front-wheel drive  Audi 2.0L 4 cylinder 200 hp 207 ft-lbs Turbo   \n",
              "3              All-wheel drive  Audi 2.0L 4 cylinder 200 hp 207 ft-lbs Turbo   \n",
              "4              All-wheel drive  Audi 2.0L 4 cylinder 200 hp 207 ft-lbs Turbo   \n",
              "\n",
              "   Engine Information.Hybrid  Engine Information.Number of Forward Gears  \\\n",
              "0                       True                                           6   \n",
              "1                       True                                           6   \n",
              "2                       True                                           6   \n",
              "3                       True                                           6   \n",
              "4                       True                                           6   \n",
              "\n",
              "  Engine Information.Transmission  Fuel Information.City mpg  \\\n",
              "0  6 Speed Automatic Select Shift                         18   \n",
              "1  6 Speed Automatic Select Shift                         22   \n",
              "2                  6 Speed Manual                         21   \n",
              "3  6 Speed Automatic Select Shift                         21   \n",
              "4  6 Speed Automatic Select Shift                         21   \n",
              "\n",
              "  Fuel Information.Fuel Type  Fuel Information.Highway mpg  \\\n",
              "0                   Gasoline                            25   \n",
              "1                   Gasoline                            28   \n",
              "2                   Gasoline                            30   \n",
              "3                   Gasoline                            28   \n",
              "4                   Gasoline                            28   \n",
              "\n",
              "  Identification.Classification           Identification.ID  \\\n",
              "0        Automatic transmission            2009 Audi A3 3.2   \n",
              "1        Automatic transmission       2009 Audi A3 2.0 T AT   \n",
              "2           Manual transmission          2009 Audi A3 2.0 T   \n",
              "3        Automatic transmission  2009 Audi A3 2.0 T Quattro   \n",
              "4        Automatic transmission  2009 Audi A3 2.0 T Quattro   \n",
              "\n",
              "  Identification.Make Identification.Model Year  Identification.Year  \\\n",
              "0                Audi              2009 Audi A3                 2009   \n",
              "1                Audi              2009 Audi A3                 2009   \n",
              "2                Audi              2009 Audi A3                 2009   \n",
              "3                Audi              2009 Audi A3                 2009   \n",
              "4                Audi              2009 Audi A3                 2009   \n",
              "\n",
              "   Engine Information.Engine Statistics.Horsepower  \\\n",
              "0                                              250   \n",
              "1                                              200   \n",
              "2                                              200   \n",
              "3                                              200   \n",
              "4                                              200   \n",
              "\n",
              "   Engine Information.Engine Statistics.Torque  \n",
              "0                                          236  \n",
              "1                                          207  \n",
              "2                                          207  \n",
              "3                                          207  \n",
              "4                                          207  "
            ],
            "text/html": [
              "\n",
              "  <div id=\"df-10c698bb-8228-41d2-bcb4-fc6a7c0842d3\" class=\"colab-df-container\">\n",
              "    <div>\n",
              "<style scoped>\n",
              "    .dataframe tbody tr th:only-of-type {\n",
              "        vertical-align: middle;\n",
              "    }\n",
              "\n",
              "    .dataframe tbody tr th {\n",
              "        vertical-align: top;\n",
              "    }\n",
              "\n",
              "    .dataframe thead th {\n",
              "        text-align: right;\n",
              "    }\n",
              "</style>\n",
              "<table border=\"1\" class=\"dataframe\">\n",
              "  <thead>\n",
              "    <tr style=\"text-align: right;\">\n",
              "      <th></th>\n",
              "      <th>Dimensions.Height</th>\n",
              "      <th>Dimensions.Length</th>\n",
              "      <th>Dimensions.Width</th>\n",
              "      <th>Engine Information.Driveline</th>\n",
              "      <th>Engine Information.Engine Type</th>\n",
              "      <th>Engine Information.Hybrid</th>\n",
              "      <th>Engine Information.Number of Forward Gears</th>\n",
              "      <th>Engine Information.Transmission</th>\n",
              "      <th>Fuel Information.City mpg</th>\n",
              "      <th>Fuel Information.Fuel Type</th>\n",
              "      <th>Fuel Information.Highway mpg</th>\n",
              "      <th>Identification.Classification</th>\n",
              "      <th>Identification.ID</th>\n",
              "      <th>Identification.Make</th>\n",
              "      <th>Identification.Model Year</th>\n",
              "      <th>Identification.Year</th>\n",
              "      <th>Engine Information.Engine Statistics.Horsepower</th>\n",
              "      <th>Engine Information.Engine Statistics.Torque</th>\n",
              "    </tr>\n",
              "  </thead>\n",
              "  <tbody>\n",
              "    <tr>\n",
              "      <th>0</th>\n",
              "      <td>140</td>\n",
              "      <td>143</td>\n",
              "      <td>202</td>\n",
              "      <td>All-wheel drive</td>\n",
              "      <td>Audi 3.2L 6 cylinder 250hp 236ft-lbs</td>\n",
              "      <td>True</td>\n",
              "      <td>6</td>\n",
              "      <td>6 Speed Automatic Select Shift</td>\n",
              "      <td>18</td>\n",
              "      <td>Gasoline</td>\n",
              "      <td>25</td>\n",
              "      <td>Automatic transmission</td>\n",
              "      <td>2009 Audi A3 3.2</td>\n",
              "      <td>Audi</td>\n",
              "      <td>2009 Audi A3</td>\n",
              "      <td>2009</td>\n",
              "      <td>250</td>\n",
              "      <td>236</td>\n",
              "    </tr>\n",
              "    <tr>\n",
              "      <th>1</th>\n",
              "      <td>140</td>\n",
              "      <td>143</td>\n",
              "      <td>202</td>\n",
              "      <td>Front-wheel drive</td>\n",
              "      <td>Audi 2.0L 4 cylinder 200 hp 207 ft-lbs Turbo</td>\n",
              "      <td>True</td>\n",
              "      <td>6</td>\n",
              "      <td>6 Speed Automatic Select Shift</td>\n",
              "      <td>22</td>\n",
              "      <td>Gasoline</td>\n",
              "      <td>28</td>\n",
              "      <td>Automatic transmission</td>\n",
              "      <td>2009 Audi A3 2.0 T AT</td>\n",
              "      <td>Audi</td>\n",
              "      <td>2009 Audi A3</td>\n",
              "      <td>2009</td>\n",
              "      <td>200</td>\n",
              "      <td>207</td>\n",
              "    </tr>\n",
              "    <tr>\n",
              "      <th>2</th>\n",
              "      <td>140</td>\n",
              "      <td>143</td>\n",
              "      <td>202</td>\n",
              "      <td>Front-wheel drive</td>\n",
              "      <td>Audi 2.0L 4 cylinder 200 hp 207 ft-lbs Turbo</td>\n",
              "      <td>True</td>\n",
              "      <td>6</td>\n",
              "      <td>6 Speed Manual</td>\n",
              "      <td>21</td>\n",
              "      <td>Gasoline</td>\n",
              "      <td>30</td>\n",
              "      <td>Manual transmission</td>\n",
              "      <td>2009 Audi A3 2.0 T</td>\n",
              "      <td>Audi</td>\n",
              "      <td>2009 Audi A3</td>\n",
              "      <td>2009</td>\n",
              "      <td>200</td>\n",
              "      <td>207</td>\n",
              "    </tr>\n",
              "    <tr>\n",
              "      <th>3</th>\n",
              "      <td>140</td>\n",
              "      <td>143</td>\n",
              "      <td>202</td>\n",
              "      <td>All-wheel drive</td>\n",
              "      <td>Audi 2.0L 4 cylinder 200 hp 207 ft-lbs Turbo</td>\n",
              "      <td>True</td>\n",
              "      <td>6</td>\n",
              "      <td>6 Speed Automatic Select Shift</td>\n",
              "      <td>21</td>\n",
              "      <td>Gasoline</td>\n",
              "      <td>28</td>\n",
              "      <td>Automatic transmission</td>\n",
              "      <td>2009 Audi A3 2.0 T Quattro</td>\n",
              "      <td>Audi</td>\n",
              "      <td>2009 Audi A3</td>\n",
              "      <td>2009</td>\n",
              "      <td>200</td>\n",
              "      <td>207</td>\n",
              "    </tr>\n",
              "    <tr>\n",
              "      <th>4</th>\n",
              "      <td>140</td>\n",
              "      <td>143</td>\n",
              "      <td>202</td>\n",
              "      <td>All-wheel drive</td>\n",
              "      <td>Audi 2.0L 4 cylinder 200 hp 207 ft-lbs Turbo</td>\n",
              "      <td>True</td>\n",
              "      <td>6</td>\n",
              "      <td>6 Speed Automatic Select Shift</td>\n",
              "      <td>21</td>\n",
              "      <td>Gasoline</td>\n",
              "      <td>28</td>\n",
              "      <td>Automatic transmission</td>\n",
              "      <td>2009 Audi A3 2.0 T Quattro</td>\n",
              "      <td>Audi</td>\n",
              "      <td>2009 Audi A3</td>\n",
              "      <td>2009</td>\n",
              "      <td>200</td>\n",
              "      <td>207</td>\n",
              "    </tr>\n",
              "  </tbody>\n",
              "</table>\n",
              "</div>\n",
              "    <div class=\"colab-df-buttons\">\n",
              "\n",
              "  <div class=\"colab-df-container\">\n",
              "    <button class=\"colab-df-convert\" onclick=\"convertToInteractive('df-10c698bb-8228-41d2-bcb4-fc6a7c0842d3')\"\n",
              "            title=\"Convert this dataframe to an interactive table.\"\n",
              "            style=\"display:none;\">\n",
              "\n",
              "  <svg xmlns=\"http://www.w3.org/2000/svg\" height=\"24px\" viewBox=\"0 -960 960 960\">\n",
              "    <path d=\"M120-120v-720h720v720H120Zm60-500h600v-160H180v160Zm220 220h160v-160H400v160Zm0 220h160v-160H400v160ZM180-400h160v-160H180v160Zm440 0h160v-160H620v160ZM180-180h160v-160H180v160Zm440 0h160v-160H620v160Z\"/>\n",
              "  </svg>\n",
              "    </button>\n",
              "\n",
              "  <style>\n",
              "    .colab-df-container {\n",
              "      display:flex;\n",
              "      gap: 12px;\n",
              "    }\n",
              "\n",
              "    .colab-df-convert {\n",
              "      background-color: #E8F0FE;\n",
              "      border: none;\n",
              "      border-radius: 50%;\n",
              "      cursor: pointer;\n",
              "      display: none;\n",
              "      fill: #1967D2;\n",
              "      height: 32px;\n",
              "      padding: 0 0 0 0;\n",
              "      width: 32px;\n",
              "    }\n",
              "\n",
              "    .colab-df-convert:hover {\n",
              "      background-color: #E2EBFA;\n",
              "      box-shadow: 0px 1px 2px rgba(60, 64, 67, 0.3), 0px 1px 3px 1px rgba(60, 64, 67, 0.15);\n",
              "      fill: #174EA6;\n",
              "    }\n",
              "\n",
              "    .colab-df-buttons div {\n",
              "      margin-bottom: 4px;\n",
              "    }\n",
              "\n",
              "    [theme=dark] .colab-df-convert {\n",
              "      background-color: #3B4455;\n",
              "      fill: #D2E3FC;\n",
              "    }\n",
              "\n",
              "    [theme=dark] .colab-df-convert:hover {\n",
              "      background-color: #434B5C;\n",
              "      box-shadow: 0px 1px 3px 1px rgba(0, 0, 0, 0.15);\n",
              "      filter: drop-shadow(0px 1px 2px rgba(0, 0, 0, 0.3));\n",
              "      fill: #FFFFFF;\n",
              "    }\n",
              "  </style>\n",
              "\n",
              "    <script>\n",
              "      const buttonEl =\n",
              "        document.querySelector('#df-10c698bb-8228-41d2-bcb4-fc6a7c0842d3 button.colab-df-convert');\n",
              "      buttonEl.style.display =\n",
              "        google.colab.kernel.accessAllowed ? 'block' : 'none';\n",
              "\n",
              "      async function convertToInteractive(key) {\n",
              "        const element = document.querySelector('#df-10c698bb-8228-41d2-bcb4-fc6a7c0842d3');\n",
              "        const dataTable =\n",
              "          await google.colab.kernel.invokeFunction('convertToInteractive',\n",
              "                                                    [key], {});\n",
              "        if (!dataTable) return;\n",
              "\n",
              "        const docLinkHtml = 'Like what you see? Visit the ' +\n",
              "          '<a target=\"_blank\" href=https://colab.research.google.com/notebooks/data_table.ipynb>data table notebook</a>'\n",
              "          + ' to learn more about interactive tables.';\n",
              "        element.innerHTML = '';\n",
              "        dataTable['output_type'] = 'display_data';\n",
              "        await google.colab.output.renderOutput(dataTable, element);\n",
              "        const docLink = document.createElement('div');\n",
              "        docLink.innerHTML = docLinkHtml;\n",
              "        element.appendChild(docLink);\n",
              "      }\n",
              "    </script>\n",
              "  </div>\n",
              "\n",
              "\n",
              "    <div id=\"df-09e7047f-837e-4503-be33-64b0ed948727\">\n",
              "      <button class=\"colab-df-quickchart\" onclick=\"quickchart('df-09e7047f-837e-4503-be33-64b0ed948727')\"\n",
              "                title=\"Suggest charts\"\n",
              "                style=\"display:none;\">\n",
              "\n",
              "<svg xmlns=\"http://www.w3.org/2000/svg\" height=\"24px\"viewBox=\"0 0 24 24\"\n",
              "     width=\"24px\">\n",
              "    <g>\n",
              "        <path d=\"M19 3H5c-1.1 0-2 .9-2 2v14c0 1.1.9 2 2 2h14c1.1 0 2-.9 2-2V5c0-1.1-.9-2-2-2zM9 17H7v-7h2v7zm4 0h-2V7h2v10zm4 0h-2v-4h2v4z\"/>\n",
              "    </g>\n",
              "</svg>\n",
              "      </button>\n",
              "\n",
              "<style>\n",
              "  .colab-df-quickchart {\n",
              "      --bg-color: #E8F0FE;\n",
              "      --fill-color: #1967D2;\n",
              "      --hover-bg-color: #E2EBFA;\n",
              "      --hover-fill-color: #174EA6;\n",
              "      --disabled-fill-color: #AAA;\n",
              "      --disabled-bg-color: #DDD;\n",
              "  }\n",
              "\n",
              "  [theme=dark] .colab-df-quickchart {\n",
              "      --bg-color: #3B4455;\n",
              "      --fill-color: #D2E3FC;\n",
              "      --hover-bg-color: #434B5C;\n",
              "      --hover-fill-color: #FFFFFF;\n",
              "      --disabled-bg-color: #3B4455;\n",
              "      --disabled-fill-color: #666;\n",
              "  }\n",
              "\n",
              "  .colab-df-quickchart {\n",
              "    background-color: var(--bg-color);\n",
              "    border: none;\n",
              "    border-radius: 50%;\n",
              "    cursor: pointer;\n",
              "    display: none;\n",
              "    fill: var(--fill-color);\n",
              "    height: 32px;\n",
              "    padding: 0;\n",
              "    width: 32px;\n",
              "  }\n",
              "\n",
              "  .colab-df-quickchart:hover {\n",
              "    background-color: var(--hover-bg-color);\n",
              "    box-shadow: 0 1px 2px rgba(60, 64, 67, 0.3), 0 1px 3px 1px rgba(60, 64, 67, 0.15);\n",
              "    fill: var(--button-hover-fill-color);\n",
              "  }\n",
              "\n",
              "  .colab-df-quickchart-complete:disabled,\n",
              "  .colab-df-quickchart-complete:disabled:hover {\n",
              "    background-color: var(--disabled-bg-color);\n",
              "    fill: var(--disabled-fill-color);\n",
              "    box-shadow: none;\n",
              "  }\n",
              "\n",
              "  .colab-df-spinner {\n",
              "    border: 2px solid var(--fill-color);\n",
              "    border-color: transparent;\n",
              "    border-bottom-color: var(--fill-color);\n",
              "    animation:\n",
              "      spin 1s steps(1) infinite;\n",
              "  }\n",
              "\n",
              "  @keyframes spin {\n",
              "    0% {\n",
              "      border-color: transparent;\n",
              "      border-bottom-color: var(--fill-color);\n",
              "      border-left-color: var(--fill-color);\n",
              "    }\n",
              "    20% {\n",
              "      border-color: transparent;\n",
              "      border-left-color: var(--fill-color);\n",
              "      border-top-color: var(--fill-color);\n",
              "    }\n",
              "    30% {\n",
              "      border-color: transparent;\n",
              "      border-left-color: var(--fill-color);\n",
              "      border-top-color: var(--fill-color);\n",
              "      border-right-color: var(--fill-color);\n",
              "    }\n",
              "    40% {\n",
              "      border-color: transparent;\n",
              "      border-right-color: var(--fill-color);\n",
              "      border-top-color: var(--fill-color);\n",
              "    }\n",
              "    60% {\n",
              "      border-color: transparent;\n",
              "      border-right-color: var(--fill-color);\n",
              "    }\n",
              "    80% {\n",
              "      border-color: transparent;\n",
              "      border-right-color: var(--fill-color);\n",
              "      border-bottom-color: var(--fill-color);\n",
              "    }\n",
              "    90% {\n",
              "      border-color: transparent;\n",
              "      border-bottom-color: var(--fill-color);\n",
              "    }\n",
              "  }\n",
              "</style>\n",
              "\n",
              "      <script>\n",
              "        async function quickchart(key) {\n",
              "          const quickchartButtonEl =\n",
              "            document.querySelector('#' + key + ' button');\n",
              "          quickchartButtonEl.disabled = true;  // To prevent multiple clicks.\n",
              "          quickchartButtonEl.classList.add('colab-df-spinner');\n",
              "          try {\n",
              "            const charts = await google.colab.kernel.invokeFunction(\n",
              "                'suggestCharts', [key], {});\n",
              "          } catch (error) {\n",
              "            console.error('Error during call to suggestCharts:', error);\n",
              "          }\n",
              "          quickchartButtonEl.classList.remove('colab-df-spinner');\n",
              "          quickchartButtonEl.classList.add('colab-df-quickchart-complete');\n",
              "        }\n",
              "        (() => {\n",
              "          let quickchartButtonEl =\n",
              "            document.querySelector('#df-09e7047f-837e-4503-be33-64b0ed948727 button');\n",
              "          quickchartButtonEl.style.display =\n",
              "            google.colab.kernel.accessAllowed ? 'block' : 'none';\n",
              "        })();\n",
              "      </script>\n",
              "    </div>\n",
              "\n",
              "    </div>\n",
              "  </div>\n"
            ],
            "application/vnd.google.colaboratory.intrinsic+json": {
              "type": "dataframe",
              "variable_name": "cars_df",
              "summary": "{\n  \"name\": \"cars_df\",\n  \"rows\": 5076,\n  \"fields\": [\n    {\n      \"column\": \"Dimensions.Height\",\n      \"properties\": {\n        \"dtype\": \"number\",\n        \"std\": 62,\n        \"min\": 1,\n        \"max\": 255,\n        \"num_unique_values\": 198,\n        \"samples\": [\n          88,\n          231,\n          167\n        ],\n        \"semantic_type\": \"\",\n        \"description\": \"\"\n      }\n    },\n    {\n      \"column\": \"Dimensions.Length\",\n      \"properties\": {\n        \"dtype\": \"number\",\n        \"std\": 77,\n        \"min\": 2,\n        \"max\": 255,\n        \"num_unique_values\": 208,\n        \"samples\": [\n          141,\n          155,\n          28\n        ],\n        \"semantic_type\": \"\",\n        \"description\": \"\"\n      }\n    },\n    {\n      \"column\": \"Dimensions.Width\",\n      \"properties\": {\n        \"dtype\": \"number\",\n        \"std\": 79,\n        \"min\": 1,\n        \"max\": 254,\n        \"num_unique_values\": 138,\n        \"samples\": [\n          217,\n          59,\n          247\n        ],\n        \"semantic_type\": \"\",\n        \"description\": \"\"\n      }\n    },\n    {\n      \"column\": \"Engine Information.Driveline\",\n      \"properties\": {\n        \"dtype\": \"category\",\n        \"num_unique_values\": 4,\n        \"samples\": [\n          \"Front-wheel drive\",\n          \"Four-wheel drive\",\n          \"All-wheel drive\"\n        ],\n        \"semantic_type\": \"\",\n        \"description\": \"\"\n      }\n    },\n    {\n      \"column\": \"Engine Information.Engine Type\",\n      \"properties\": {\n        \"dtype\": \"category\",\n        \"num_unique_values\": 535,\n        \"samples\": [\n          \"Honda 2.0L 4 Cyinder 197 hp 139 ft-lbs\",\n          \"Kia 2.0L 4 Cylinder 142 hp 137 ft-lbs\",\n          \"Ford 2.0L 4 Cylinder 240 hp 270 ft-lbs Turbo\"\n        ],\n        \"semantic_type\": \"\",\n        \"description\": \"\"\n      }\n    },\n    {\n      \"column\": \"Engine Information.Hybrid\",\n      \"properties\": {\n        \"dtype\": \"boolean\",\n        \"num_unique_values\": 1,\n        \"samples\": [\n          true\n        ],\n        \"semantic_type\": \"\",\n        \"description\": \"\"\n      }\n    },\n    {\n      \"column\": \"Engine Information.Number of Forward Gears\",\n      \"properties\": {\n        \"dtype\": \"number\",\n        \"std\": 0,\n        \"min\": 4,\n        \"max\": 8,\n        \"num_unique_values\": 5,\n        \"samples\": [\n          5\n        ],\n        \"semantic_type\": \"\",\n        \"description\": \"\"\n      }\n    },\n    {\n      \"column\": \"Engine Information.Transmission\",\n      \"properties\": {\n        \"dtype\": \"category\",\n        \"num_unique_values\": 11,\n        \"samples\": [\n          \"5 Speed Automatic\"\n        ],\n        \"semantic_type\": \"\",\n        \"description\": \"\"\n      }\n    },\n    {\n      \"column\": \"Fuel Information.City mpg\",\n      \"properties\": {\n        \"dtype\": \"number\",\n        \"std\": 4,\n        \"min\": 8,\n        \"max\": 38,\n        \"num_unique_values\": 27,\n        \"samples\": [\n          12\n        ],\n        \"semantic_type\": \"\",\n        \"description\": \"\"\n      }\n    },\n    {\n      \"column\": \"Fuel Information.Fuel Type\",\n      \"properties\": {\n        \"dtype\": \"category\",\n        \"num_unique_values\": 4,\n        \"samples\": [\n          \"E85\"\n        ],\n        \"semantic_type\": \"\",\n        \"description\": \"\"\n      }\n    },\n    {\n      \"column\": \"Fuel Information.Highway mpg\",\n      \"properties\": {\n        \"dtype\": \"number\",\n        \"std\": 6,\n        \"min\": 11,\n        \"max\": 223,\n        \"num_unique_values\": 34,\n        \"samples\": [\n          24\n        ],\n        \"semantic_type\": \"\",\n        \"description\": \"\"\n      }\n    },\n    {\n      \"column\": \"Identification.Classification\",\n      \"properties\": {\n        \"dtype\": \"category\",\n        \"num_unique_values\": 2,\n        \"samples\": [\n          \"Manual transmission\"\n        ],\n        \"semantic_type\": \"\",\n        \"description\": \"\"\n      }\n    },\n    {\n      \"column\": \"Identification.ID\",\n      \"properties\": {\n        \"dtype\": \"string\",\n        \"num_unique_values\": 5030,\n        \"samples\": [\n          \"2010 Buick Lacrosse CXS\"\n        ],\n        \"semantic_type\": \"\",\n        \"description\": \"\"\n      }\n    },\n    {\n      \"column\": \"Identification.Make\",\n      \"properties\": {\n        \"dtype\": \"category\",\n        \"num_unique_values\": 47,\n        \"samples\": [\n          \"Lincoln\"\n        ],\n        \"semantic_type\": \"\",\n        \"description\": \"\"\n      }\n    },\n    {\n      \"column\": \"Identification.Model Year\",\n      \"properties\": {\n        \"dtype\": \"category\",\n        \"num_unique_values\": 918,\n        \"samples\": [\n          \"2011 Mercury Grand Marquis\"\n        ],\n        \"semantic_type\": \"\",\n        \"description\": \"\"\n      }\n    },\n    {\n      \"column\": \"Identification.Year\",\n      \"properties\": {\n        \"dtype\": \"number\",\n        \"std\": 0,\n        \"min\": 2009,\n        \"max\": 2012,\n        \"num_unique_values\": 4,\n        \"samples\": [\n          2012\n        ],\n        \"semantic_type\": \"\",\n        \"description\": \"\"\n      }\n    },\n    {\n      \"column\": \"Engine Information.Engine Statistics.Horsepower\",\n      \"properties\": {\n        \"dtype\": \"number\",\n        \"std\": 95,\n        \"min\": 100,\n        \"max\": 638,\n        \"num_unique_values\": 216,\n        \"samples\": [\n          204\n        ],\n        \"semantic_type\": \"\",\n        \"description\": \"\"\n      }\n    },\n    {\n      \"column\": \"Engine Information.Engine Statistics.Torque\",\n      \"properties\": {\n        \"dtype\": \"number\",\n        \"std\": 100,\n        \"min\": 98,\n        \"max\": 774,\n        \"num_unique_values\": 217,\n        \"samples\": [\n          277\n        ],\n        \"semantic_type\": \"\",\n        \"description\": \"\"\n      }\n    }\n  ]\n}"
            }
          },
          "metadata": {},
          "execution_count": 53
        }
      ],
      "source": [
        "cars_df.head()"
      ]
    },
    {
      "cell_type": "markdown",
      "metadata": {
        "id": "egjNRWduPy93"
      },
      "source": [
        "### 1. Inspect data - 1 point\n",
        "\n",
        "1.1 What is the number of unique car identifiers (`Identification.ID`)? - 0.5 points"
      ]
    },
    {
      "cell_type": "code",
      "execution_count": 54,
      "metadata": {
        "colab": {
          "base_uri": "https://localhost:8080/"
        },
        "id": "409OA8TTPy93",
        "outputId": "7f09a843-71ab-48b2-eb92-8afc7531040b"
      },
      "outputs": [
        {
          "output_type": "stream",
          "name": "stdout",
          "text": [
            "5030\n"
          ]
        }
      ],
      "source": [
        "unique_ids = len(cars_df['Identification.ID'].unique())\n",
        "print(unique_ids)"
      ]
    },
    {
      "cell_type": "markdown",
      "metadata": {
        "id": "iUBgzrkHPy93"
      },
      "source": [
        "1.2 What is the number of unique entries in the dataset when jointly looking at `Identification.ID` AND `Identification.Year`? Note that this should be greater than the value obtained before - 0.5 points"
      ]
    },
    {
      "cell_type": "code",
      "execution_count": 55,
      "metadata": {
        "colab": {
          "base_uri": "https://localhost:8080/"
        },
        "id": "9epswEilPy93",
        "outputId": "a4d39408-c0b4-4ca9-d163-f06aeb02b353"
      },
      "outputs": [
        {
          "output_type": "stream",
          "name": "stdout",
          "text": [
            "5039\n"
          ]
        }
      ],
      "source": [
        "unique_ids_and_years = len(cars_df.groupby(['Identification.ID', 'Identification.Year']))\n",
        "print(unique_ids_and_years)"
      ]
    },
    {
      "cell_type": "code",
      "execution_count": 56,
      "metadata": {
        "id": "Dyhhs8jfPy94"
      },
      "outputs": [],
      "source": [
        "assert unique_ids_and_years > unique_ids"
      ]
    },
    {
      "cell_type": "markdown",
      "metadata": {
        "id": "nFRMlbKRPy94"
      },
      "source": [
        "### 2. Distribution of data - 3 points\n",
        "a) Plot a distribution(histogram) of Highway fuel economy(`Fuel Information.Highway mpg`). Overlay this plot with a density plot of the same quantity - 2 points\n",
        "\n",
        "Note:\n",
        "1. Each value must have its own bin (Hint - use `range`) and should occupy the entire width of the plot\n",
        "2. Each bar of the histogram should be blue and separated by black border(Hint - look at `ec` parameter of matplotlib's histogram API)\n",
        "3. The overlaying density line should be orange"
      ]
    },
    {
      "cell_type": "code",
      "execution_count": 57,
      "metadata": {
        "id": "1oYyj8dDPy94"
      },
      "outputs": [],
      "source": [
        "from scipy.stats import gaussian_kde\n"
      ]
    },
    {
      "cell_type": "code",
      "execution_count": 58,
      "metadata": {
        "colab": {
          "base_uri": "https://localhost:8080/"
        },
        "id": "XCvW8lvpPy94",
        "outputId": "f192a079-e417-4f51-9568-b5cc5ac98d97"
      },
      "outputs": [
        {
          "output_type": "stream",
          "name": "stdout",
          "text": [
            "Max hwy mpg: 223\n",
            "Min hwy mpg: 11\n"
          ]
        }
      ],
      "source": [
        "max_hwy_mpg = cars_df['Fuel Information.Highway mpg'].max()\n",
        "min_hwy_mpg = cars_df['Fuel Information.Highway mpg'].min()\n",
        "print(\"Max hwy mpg:\",max_hwy_mpg)\n",
        "print(\"Min hwy mpg:\",min_hwy_mpg)\n",
        "\n",
        "\n",
        "\n"
      ]
    },
    {
      "cell_type": "code",
      "source": [
        "#clean up na\n",
        "cars_mpg = pd.to_numeric(cars_df['Fuel Information.Highway mpg'], errors='coerce').dropna()\n",
        "\n",
        "#Define bin values in steps of 10 between 11 and 223\n",
        "bins = np.arange(11, 224, 10)"
      ],
      "metadata": {
        "id": "nk-p4KMWWTRZ"
      },
      "execution_count": 59,
      "outputs": []
    },
    {
      "cell_type": "code",
      "source": [
        "sns.histplot(cars_mpg, bins=bins, color='blue', ec='black', stat='density')\n",
        "sns.kdeplot(cars_mpg, color='orange', linewidth=2)\n",
        "\n",
        "plt.title('Highway MPG Distribution')\n",
        "plt.xlabel('Highway MPG')\n",
        "plt.ylabel('Density')\n",
        "plt.show()"
      ],
      "metadata": {
        "id": "et3cCo-5VsF7",
        "outputId": "80981727-c5cd-4ebf-f8a2-f271fd217c79",
        "colab": {
          "base_uri": "https://localhost:8080/",
          "height": 472
        }
      },
      "execution_count": 70,
      "outputs": [
        {
          "output_type": "display_data",
          "data": {
            "text/plain": [
              "<Figure size 640x480 with 1 Axes>"
            ],
            "image/png": "[encoded data removed]"
          },
          "metadata": {}
        }
      ]
    },
    {
      "cell_type": "markdown",
      "metadata": {
        "id": "xst-a9HBPy94"
      },
      "source": [
        "b) Repeate the same for city fuel economy(`Fuel Information.City mpg`) - 0.5 point\n",
        "\n",
        "(Subjective)(Optional) Is this plot similar to the previous one? Approximately, how much is city fuel economy lower compared to highway fuel economy?"
      ]
    },
    {
      "cell_type": "code",
      "execution_count": 71,
      "metadata": {
        "colab": {
          "base_uri": "https://localhost:8080/"
        },
        "id": "deRHjImlPy94",
        "outputId": "45771ec6-14e4-4702-d7df-a701cc0b2f19"
      },
      "outputs": [
        {
          "output_type": "stream",
          "name": "stdout",
          "text": [
            "Max city mpg: 38\n",
            "Min city mpg: 8\n"
          ]
        }
      ],
      "source": [
        "max_city_mpg = cars_df['Fuel Information.City mpg'].max()\n",
        "min_city_mpg = cars_df['Fuel Information.City mpg'].min()\n",
        "print(\"Max city mpg:\",max_city_mpg)\n",
        "print(\"Min city mpg:\",min_city_mpg)\n"
      ]
    },
    {
      "cell_type": "code",
      "source": [
        "#clean up na\n",
        "cars_city_mpg = pd.to_numeric(cars_df['Fuel Information.City mpg'], errors='coerce').dropna()\n",
        "\n",
        "#Define bin values in steps of 10 between 11 and 223\n",
        "bins = np.arange(min_city_mpg, max_city_mpg+1, 10)"
      ],
      "metadata": {
        "id": "Z-wWy8s0auO3"
      },
      "execution_count": 72,
      "outputs": []
    },
    {
      "cell_type": "code",
      "source": [
        "sns.histplot(cars_city_mpg, bins=bins, color='blue', ec='black', stat='density')\n",
        "sns.kdeplot(cars_city_mpg, color='orange', linewidth=2)\n",
        "\n",
        "plt.title('City MPG Distribution')\n",
        "plt.xlabel('City MPG')\n",
        "plt.ylabel('Density')\n",
        "plt.show()"
      ],
      "metadata": {
        "id": "PR2fPMlGa_z9",
        "outputId": "c2e56d83-6a72-4aaf-efad-4a8b6078f664",
        "colab": {
          "base_uri": "https://localhost:8080/",
          "height": 472
        }
      },
      "execution_count": 73,
      "outputs": [
        {
          "output_type": "display_data",
          "data": {
            "text/plain": [
              "<Figure size 640x480 with 1 Axes>"
            ],
            "image/png": "[encoded data removed]"
          },
          "metadata": {}
        }
      ]
    },
    {
      "cell_type": "markdown",
      "metadata": {
        "id": "VVp0U6IkPy94"
      },
      "source": [
        "c) Repeat the same for Engine Horsepower(`Engine Information.Engine Statistics.Horsepower`) - 0.5 points\n",
        "\n",
        "Note:\n",
        "\n",
        "1. Use appropriate `bins`, since the range of horsepower is much higher than fuel economy. Hint - Try bin size of `10` or `20`\n",
        "2. Experiment with different colors from 1 (a)\n"
      ]
    },
    {
      "cell_type": "code",
      "execution_count": 74,
      "metadata": {
        "colab": {
          "base_uri": "https://localhost:8080/"
        },
        "id": "gZVo1FHEPy94",
        "outputId": "a024b0d0-52de-4345-c10b-a9369deeec42"
      },
      "outputs": [
        {
          "output_type": "stream",
          "name": "stdout",
          "text": [
            "Max city mpg: 638\n",
            "Min city mpg: 100\n"
          ]
        }
      ],
      "source": [
        "max_hp = cars_df['Engine Information.Engine Statistics.Horsepower'].max()\n",
        "min_hp = cars_df['Engine Information.Engine Statistics.Horsepower'].min()\n",
        "print(\"Max city mpg:\",max_hp)\n",
        "print(\"Min city mpg:\",min_hp)"
      ]
    },
    {
      "cell_type": "code",
      "source": [
        "#clean up na\n",
        "cars_hp = pd.to_numeric(cars_df['Engine Information.Engine Statistics.Horsepower'], errors='coerce').dropna()\n",
        "\n",
        "#Define bin values in steps of 20 between 11 and 223\n",
        "bins = np.arange(min_hp, max_hp+1, 20)"
      ],
      "metadata": {
        "id": "vm1I4YXlcAsx"
      },
      "execution_count": 80,
      "outputs": []
    },
    {
      "cell_type": "code",
      "source": [
        "sns.histplot(cars_hp, bins=bins, color='green', ec='yellow', stat='density')\n",
        "sns.kdeplot(cars_hp, color='blue', linewidth=2)\n",
        "\n",
        "plt.title('HP Distribution')\n",
        "plt.xlabel('Horsepower')\n",
        "plt.ylabel('Density')\n",
        "plt.show()"
      ],
      "metadata": {
        "id": "i02FoZD8cNoA",
        "outputId": "49bfe97a-a01a-429b-cf1e-302c42c675ca",
        "colab": {
          "base_uri": "https://localhost:8080/",
          "height": 472
        }
      },
      "execution_count": 81,
      "outputs": [
        {
          "output_type": "display_data",
          "data": {
            "text/plain": [
              "<Figure size 640x480 with 1 Axes>"
            ],
            "image/png": "[encoded data removed]"
          },
          "metadata": {}
        }
      ]
    },
    {
      "cell_type": "markdown",
      "metadata": {
        "id": "WMI0OcOOPy94"
      },
      "source": [
        "### 3. Correlation - 3 points"
      ]
    },
    {
      "cell_type": "markdown",
      "metadata": {
        "id": "mfINKmqSPy94"
      },
      "source": [
        "3.1 Plot a scatter plot, overlayed with a *line of best fit* plot, of engine horsepower vs highway fuel economy - 2 point\n",
        "\n",
        "* The x-axis is engine power\n",
        "* The y-axis is fuel economy\n",
        "* Lable the axes appropriately\n",
        "* Add an appropriate title\n",
        "* Use [`np.polyfit`](https://numpy.org/doc/stable/reference/generated/numpy.polyfit.html) or any other method/library to plot the line of best fit\n",
        "\n",
        "* Hint - The resulting plot should look similar to [this](https://en.wikipedia.org/wiki/Simple_linear_regression#/media/File:Okuns_law_quarterly_differences.svg)\n",
        "\n",
        "Reference  -[`Simple linear regression`](https://en.wikipedia.org/wiki/Simple_linear_regression)\n",
        "\n",
        "You do not have to worry about the details of linear regression here. You can use any library function to do it for you"
      ]
    },
    {
      "cell_type": "code",
      "execution_count": 93,
      "metadata": {
        "colab": {
          "base_uri": "https://localhost:8080/",
          "height": 472
        },
        "id": "Ebw_3q4lPy94",
        "outputId": "346432b8-77fd-4a7b-857c-d054d98c9fab"
      },
      "outputs": [
        {
          "output_type": "display_data",
          "data": {
            "text/plain": [
              "<Figure size 640x480 with 1 Axes>"
            ],
            "image/png": "[encoded data removed]"
          },
          "metadata": {}
        }
      ],
      "source": [
        "# Clean numeric data\n",
        "x = pd.to_numeric(cars_df['Engine Information.Engine Statistics.Horsepower'])\n",
        "y = pd.to_numeric(cars_df['Fuel Information.Highway mpg'])\n",
        "\n",
        "# Fit 1st-degree polynomial\n",
        "z=np.polyfit(x, y, 1)\n",
        "p = np.poly1d(z)\n",
        "\n",
        "\n",
        "# Create smooth line values\n",
        "x_line = np.linspace(x.min(), x.max(), 200)\n",
        "y_line = p(x_line)\n",
        "\n",
        "#Plot scatterplot\n",
        "sns.scatterplot(data=cars_df, x='Engine Information.Engine Statistics.Horsepower', y='Fuel Information.Highway mpg', color='lightblue')\n",
        "\n",
        "# Plot best-fit line\n",
        "plt.plot(x_line, y_line, color='blue', linewidth=2)\n",
        "\n",
        "plt.title('Engine Power vs Highway MPG')\n",
        "plt.xlabel('Engine Horsepower')\n",
        "plt.ylabel('Highway MPG')\n",
        "plt.show()"
      ]
    },
    {
      "cell_type": "markdown",
      "metadata": {
        "id": "dwNo24x_Py94"
      },
      "source": [
        "3.2 You might notice in the previous plot that there is an outlier(porbably an error) in fuel economy. Repate the plot after removing the outlier point - 0.5 points\n",
        "\n",
        "(Optional)(Subjective) What can you tell about the correlation between engine horsepower and fuel economy?"
      ]
    },
    {
      "cell_type": "code",
      "execution_count": 95,
      "metadata": {
        "colab": {
          "base_uri": "https://localhost:8080/",
          "height": 300
        },
        "id": "x0OkgybNPy94",
        "outputId": "d0a3dbfd-1675-4bef-ec5e-7186ac680260"
      },
      "outputs": [
        {
          "output_type": "execute_result",
          "data": {
            "text/plain": [
              "       Fuel Information.Highway mpg\n",
              "count                   5076.000000\n",
              "mean                      24.125493\n",
              "std                        6.488293\n",
              "min                       11.000000\n",
              "25%                       20.000000\n",
              "50%                       24.000000\n",
              "75%                       28.000000\n",
              "max                      223.000000"
            ],
            "text/html": [
              "\n",
              "  <div id=\"df-fca2245d-2e61-41a1-9fc8-b012718f7165\" class=\"colab-df-container\">\n",
              "    <div>\n",
              "<style scoped>\n",
              "    .dataframe tbody tr th:only-of-type {\n",
              "        vertical-align: middle;\n",
              "    }\n",
              "\n",
              "    .dataframe tbody tr th {\n",
              "        vertical-align: top;\n",
              "    }\n",
              "\n",
              "    .dataframe thead th {\n",
              "        text-align: right;\n",
              "    }\n",
              "</style>\n",
              "<table border=\"1\" class=\"dataframe\">\n",
              "  <thead>\n",
              "    <tr style=\"text-align: right;\">\n",
              "      <th></th>\n",
              "      <th>Fuel Information.Highway mpg</th>\n",
              "    </tr>\n",
              "  </thead>\n",
              "  <tbody>\n",
              "    <tr>\n",
              "      <th>count</th>\n",
              "      <td>5076.000000</td>\n",
              "    </tr>\n",
              "    <tr>\n",
              "      <th>mean</th>\n",
              "      <td>24.125493</td>\n",
              "    </tr>\n",
              "    <tr>\n",
              "      <th>std</th>\n",
              "      <td>6.488293</td>\n",
              "    </tr>\n",
              "    <tr>\n",
              "      <th>min</th>\n",
              "      <td>11.000000</td>\n",
              "    </tr>\n",
              "    <tr>\n",
              "      <th>25%</th>\n",
              "      <td>20.000000</td>\n",
              "    </tr>\n",
              "    <tr>\n",
              "      <th>50%</th>\n",
              "      <td>24.000000</td>\n",
              "    </tr>\n",
              "    <tr>\n",
              "      <th>75%</th>\n",
              "      <td>28.000000</td>\n",
              "    </tr>\n",
              "    <tr>\n",
              "      <th>max</th>\n",
              "      <td>223.000000</td>\n",
              "    </tr>\n",
              "  </tbody>\n",
              "</table>\n",
              "</div>\n",
              "    <div class=\"colab-df-buttons\">\n",
              "\n",
              "  <div class=\"colab-df-container\">\n",
              "    <button class=\"colab-df-convert\" onclick=\"convertToInteractive('df-fca2245d-2e61-41a1-9fc8-b012718f7165')\"\n",
              "            title=\"Convert this dataframe to an interactive table.\"\n",
              "            style=\"display:none;\">\n",
              "\n",
              "  <svg xmlns=\"http://www.w3.org/2000/svg\" height=\"24px\" viewBox=\"0 -960 960 960\">\n",
              "    <path d=\"M120-120v-720h720v720H120Zm60-500h600v-160H180v160Zm220 220h160v-160H400v160Zm0 220h160v-160H400v160ZM180-400h160v-160H180v160Zm440 0h160v-160H620v160ZM180-180h160v-160H180v160Zm440 0h160v-160H620v160Z\"/>\n",
              "  </svg>\n",
              "    </button>\n",
              "\n",
              "  <style>\n",
              "    .colab-df-container {\n",
              "      display:flex;\n",
              "      gap: 12px;\n",
              "    }\n",
              "\n",
              "    .colab-df-convert {\n",
              "      background-color: #E8F0FE;\n",
              "      border: none;\n",
              "      border-radius: 50%;\n",
              "      cursor: pointer;\n",
              "      display: none;\n",
              "      fill: #1967D2;\n",
              "      height: 32px;\n",
              "      padding: 0 0 0 0;\n",
              "      width: 32px;\n",
              "    }\n",
              "\n",
              "    .colab-df-convert:hover {\n",
              "      background-color: #E2EBFA;\n",
              "      box-shadow: 0px 1px 2px rgba(60, 64, 67, 0.3), 0px 1px 3px 1px rgba(60, 64, 67, 0.15);\n",
              "      fill: #174EA6;\n",
              "    }\n",
              "\n",
              "    .colab-df-buttons div {\n",
              "      margin-bottom: 4px;\n",
              "    }\n",
              "\n",
              "    [theme=dark] .colab-df-convert {\n",
              "      background-color: #3B4455;\n",
              "      fill: #D2E3FC;\n",
              "    }\n",
              "\n",
              "    [theme=dark] .colab-df-convert:hover {\n",
              "      background-color: #434B5C;\n",
              "      box-shadow: 0px 1px 3px 1px rgba(0, 0, 0, 0.15);\n",
              "      filter: drop-shadow(0px 1px 2px rgba(0, 0, 0, 0.3));\n",
              "      fill: #FFFFFF;\n",
              "    }\n",
              "  </style>\n",
              "\n",
              "    <script>\n",
              "      const buttonEl =\n",
              "        document.querySelector('#df-fca2245d-2e61-41a1-9fc8-b012718f7165 button.colab-df-convert');\n",
              "      buttonEl.style.display =\n",
              "        google.colab.kernel.accessAllowed ? 'block' : 'none';\n",
              "\n",
              "      async function convertToInteractive(key) {\n",
              "        const element = document.querySelector('#df-fca2245d-2e61-41a1-9fc8-b012718f7165');\n",
              "        const dataTable =\n",
              "          await google.colab.kernel.invokeFunction('convertToInteractive',\n",
              "                                                    [key], {});\n",
              "        if (!dataTable) return;\n",
              "\n",
              "        const docLinkHtml = 'Like what you see? Visit the ' +\n",
              "          '<a target=\"_blank\" href=https://colab.research.google.com/notebooks/data_table.ipynb>data table notebook</a>'\n",
              "          + ' to learn more about interactive tables.';\n",
              "        element.innerHTML = '';\n",
              "        dataTable['output_type'] = 'display_data';\n",
              "        await google.colab.output.renderOutput(dataTable, element);\n",
              "        const docLink = document.createElement('div');\n",
              "        docLink.innerHTML = docLinkHtml;\n",
              "        element.appendChild(docLink);\n",
              "      }\n",
              "    </script>\n",
              "  </div>\n",
              "\n",
              "\n",
              "    <div id=\"df-13b52fad-fdff-44fd-aa7c-0cfbcd533234\">\n",
              "      <button class=\"colab-df-quickchart\" onclick=\"quickchart('df-13b52fad-fdff-44fd-aa7c-0cfbcd533234')\"\n",
              "                title=\"Suggest charts\"\n",
              "                style=\"display:none;\">\n",
              "\n",
              "<svg xmlns=\"http://www.w3.org/2000/svg\" height=\"24px\"viewBox=\"0 0 24 24\"\n",
              "     width=\"24px\">\n",
              "    <g>\n",
              "        <path d=\"M19 3H5c-1.1 0-2 .9-2 2v14c0 1.1.9 2 2 2h14c1.1 0 2-.9 2-2V5c0-1.1-.9-2-2-2zM9 17H7v-7h2v7zm4 0h-2V7h2v10zm4 0h-2v-4h2v4z\"/>\n",
              "    </g>\n",
              "</svg>\n",
              "      </button>\n",
              "\n",
              "<style>\n",
              "  .colab-df-quickchart {\n",
              "      --bg-color: #E8F0FE;\n",
              "      --fill-color: #1967D2;\n",
              "      --hover-bg-color: #E2EBFA;\n",
              "      --hover-fill-color: #174EA6;\n",
              "      --disabled-fill-color: #AAA;\n",
              "      --disabled-bg-color: #DDD;\n",
              "  }\n",
              "\n",
              "  [theme=dark] .colab-df-quickchart {\n",
              "      --bg-color: #3B4455;\n",
              "      --fill-color: #D2E3FC;\n",
              "      --hover-bg-color: #434B5C;\n",
              "      --hover-fill-color: #FFFFFF;\n",
              "      --disabled-bg-color: #3B4455;\n",
              "      --disabled-fill-color: #666;\n",
              "  }\n",
              "\n",
              "  .colab-df-quickchart {\n",
              "    background-color: var(--bg-color);\n",
              "    border: none;\n",
              "    border-radius: 50%;\n",
              "    cursor: pointer;\n",
              "    display: none;\n",
              "    fill: var(--fill-color);\n",
              "    height: 32px;\n",
              "    padding: 0;\n",
              "    width: 32px;\n",
              "  }\n",
              "\n",
              "  .colab-df-quickchart:hover {\n",
              "    background-color: var(--hover-bg-color);\n",
              "    box-shadow: 0 1px 2px rgba(60, 64, 67, 0.3), 0 1px 3px 1px rgba(60, 64, 67, 0.15);\n",
              "    fill: var(--button-hover-fill-color);\n",
              "  }\n",
              "\n",
              "  .colab-df-quickchart-complete:disabled,\n",
              "  .colab-df-quickchart-complete:disabled:hover {\n",
              "    background-color: var(--disabled-bg-color);\n",
              "    fill: var(--disabled-fill-color);\n",
              "    box-shadow: none;\n",
              "  }\n",
              "\n",
              "  .colab-df-spinner {\n",
              "    border: 2px solid var(--fill-color);\n",
              "    border-color: transparent;\n",
              "    border-bottom-color: var(--fill-color);\n",
              "    animation:\n",
              "      spin 1s steps(1) infinite;\n",
              "  }\n",
              "\n",
              "  @keyframes spin {\n",
              "    0% {\n",
              "      border-color: transparent;\n",
              "      border-bottom-color: var(--fill-color);\n",
              "      border-left-color: var(--fill-color);\n",
              "    }\n",
              "    20% {\n",
              "      border-color: transparent;\n",
              "      border-left-color: var(--fill-color);\n",
              "      border-top-color: var(--fill-color);\n",
              "    }\n",
              "    30% {\n",
              "      border-color: transparent;\n",
              "      border-left-color: var(--fill-color);\n",
              "      border-top-color: var(--fill-color);\n",
              "      border-right-color: var(--fill-color);\n",
              "    }\n",
              "    40% {\n",
              "      border-color: transparent;\n",
              "      border-right-color: var(--fill-color);\n",
              "      border-top-color: var(--fill-color);\n",
              "    }\n",
              "    60% {\n",
              "      border-color: transparent;\n",
              "      border-right-color: var(--fill-color);\n",
              "    }\n",
              "    80% {\n",
              "      border-color: transparent;\n",
              "      border-right-color: var(--fill-color);\n",
              "      border-bottom-color: var(--fill-color);\n",
              "    }\n",
              "    90% {\n",
              "      border-color: transparent;\n",
              "      border-bottom-color: var(--fill-color);\n",
              "    }\n",
              "  }\n",
              "</style>\n",
              "\n",
              "      <script>\n",
              "        async function quickchart(key) {\n",
              "          const quickchartButtonEl =\n",
              "            document.querySelector('#' + key + ' button');\n",
              "          quickchartButtonEl.disabled = true;  // To prevent multiple clicks.\n",
              "          quickchartButtonEl.classList.add('colab-df-spinner');\n",
              "          try {\n",
              "            const charts = await google.colab.kernel.invokeFunction(\n",
              "                'suggestCharts', [key], {});\n",
              "          } catch (error) {\n",
              "            console.error('Error during call to suggestCharts:', error);\n",
              "          }\n",
              "          quickchartButtonEl.classList.remove('colab-df-spinner');\n",
              "          quickchartButtonEl.classList.add('colab-df-quickchart-complete');\n",
              "        }\n",
              "        (() => {\n",
              "          let quickchartButtonEl =\n",
              "            document.querySelector('#df-13b52fad-fdff-44fd-aa7c-0cfbcd533234 button');\n",
              "          quickchartButtonEl.style.display =\n",
              "            google.colab.kernel.accessAllowed ? 'block' : 'none';\n",
              "        })();\n",
              "      </script>\n",
              "    </div>\n",
              "\n",
              "    </div>\n",
              "  </div>\n"
            ],
            "application/vnd.google.colaboratory.intrinsic+json": {
              "type": "dataframe",
              "summary": "{\n  \"name\": \"cars_df[['Fuel Information\",\n  \"rows\": 8,\n  \"fields\": [\n    {\n      \"column\": \"Fuel Information.Highway mpg\",\n      \"properties\": {\n        \"dtype\": \"number\",\n        \"std\": 1779.0832968031468,\n        \"min\": 6.488292772920855,\n        \"max\": 5076.0,\n        \"num_unique_values\": 8,\n        \"samples\": [\n          24.125492513790388,\n          24.0,\n          5076.0\n        ],\n        \"semantic_type\": \"\",\n        \"description\": \"\"\n      }\n    }\n  ]\n}"
            }
          },
          "metadata": {},
          "execution_count": 95
        }
      ],
      "source": [
        "cars_df[['Fuel Information.Highway mpg']].describe()\n"
      ]
    },
    {
      "cell_type": "code",
      "source": [
        "#remove the outlier\n",
        "cars_df = cars_df[cars_df['Fuel Information.Highway mpg'] != 223]\n",
        "#verify\n",
        "cars_df[['Fuel Information.Highway mpg']].describe()\n"
      ],
      "metadata": {
        "id": "Nmx0U6w7hKXJ",
        "outputId": "460f4b28-a7c3-4c0c-e714-f6a6d0dbc059",
        "colab": {
          "base_uri": "https://localhost:8080/",
          "height": 300
        }
      },
      "execution_count": 99,
      "outputs": [
        {
          "output_type": "execute_result",
          "data": {
            "text/plain": [
              "       Fuel Information.Highway mpg\n",
              "count                   5075.000000\n",
              "mean                      24.086305\n",
              "std                        5.857461\n",
              "min                       11.000000\n",
              "25%                       20.000000\n",
              "50%                       24.000000\n",
              "75%                       28.000000\n",
              "max                       43.000000"
            ],
            "text/html": [
              "\n",
              "  <div id=\"df-29f7855a-d922-445c-8eb4-3d59d5ee8ddb\" class=\"colab-df-container\">\n",
              "    <div>\n",
              "<style scoped>\n",
              "    .dataframe tbody tr th:only-of-type {\n",
              "        vertical-align: middle;\n",
              "    }\n",
              "\n",
              "    .dataframe tbody tr th {\n",
              "        vertical-align: top;\n",
              "    }\n",
              "\n",
              "    .dataframe thead th {\n",
              "        text-align: right;\n",
              "    }\n",
              "</style>\n",
              "<table border=\"1\" class=\"dataframe\">\n",
              "  <thead>\n",
              "    <tr style=\"text-align: right;\">\n",
              "      <th></th>\n",
              "      <th>Fuel Information.Highway mpg</th>\n",
              "    </tr>\n",
              "  </thead>\n",
              "  <tbody>\n",
              "    <tr>\n",
              "      <th>count</th>\n",
              "      <td>5075.000000</td>\n",
              "    </tr>\n",
              "    <tr>\n",
              "      <th>mean</th>\n",
              "      <td>24.086305</td>\n",
              "    </tr>\n",
              "    <tr>\n",
              "      <th>std</th>\n",
              "      <td>5.857461</td>\n",
              "    </tr>\n",
              "    <tr>\n",
              "      <th>min</th>\n",
              "      <td>11.000000</td>\n",
              "    </tr>\n",
              "    <tr>\n",
              "      <th>25%</th>\n",
              "      <td>20.000000</td>\n",
              "    </tr>\n",
              "    <tr>\n",
              "      <th>50%</th>\n",
              "      <td>24.000000</td>\n",
              "    </tr>\n",
              "    <tr>\n",
              "      <th>75%</th>\n",
              "      <td>28.000000</td>\n",
              "    </tr>\n",
              "    <tr>\n",
              "      <th>max</th>\n",
              "      <td>43.000000</td>\n",
              "    </tr>\n",
              "  </tbody>\n",
              "</table>\n",
              "</div>\n",
              "    <div class=\"colab-df-buttons\">\n",
              "\n",
              "  <div class=\"colab-df-container\">\n",
              "    <button class=\"colab-df-convert\" onclick=\"convertToInteractive('df-29f7855a-d922-445c-8eb4-3d59d5ee8ddb')\"\n",
              "            title=\"Convert this dataframe to an interactive table.\"\n",
              "            style=\"display:none;\">\n",
              "\n",
              "  <svg xmlns=\"http://www.w3.org/2000/svg\" height=\"24px\" viewBox=\"0 -960 960 960\">\n",
              "    <path d=\"M120-120v-720h720v720H120Zm60-500h600v-160H180v160Zm220 220h160v-160H400v160Zm0 220h160v-160H400v160ZM180-400h160v-160H180v160Zm440 0h160v-160H620v160ZM180-180h160v-160H180v160Zm440 0h160v-160H620v160Z\"/>\n",
              "  </svg>\n",
              "    </button>\n",
              "\n",
              "  <style>\n",
              "    .colab-df-container {\n",
              "      display:flex;\n",
              "      gap: 12px;\n",
              "    }\n",
              "\n",
              "    .colab-df-convert {\n",
              "      background-color: #E8F0FE;\n",
              "      border: none;\n",
              "      border-radius: 50%;\n",
              "      cursor: pointer;\n",
              "      display: none;\n",
              "      fill: #1967D2;\n",
              "      height: 32px;\n",
              "      padding: 0 0 0 0;\n",
              "      width: 32px;\n",
              "    }\n",
              "\n",
              "    .colab-df-convert:hover {\n",
              "      background-color: #E2EBFA;\n",
              "      box-shadow: 0px 1px 2px rgba(60, 64, 67, 0.3), 0px 1px 3px 1px rgba(60, 64, 67, 0.15);\n",
              "      fill: #174EA6;\n",
              "    }\n",
              "\n",
              "    .colab-df-buttons div {\n",
              "      margin-bottom: 4px;\n",
              "    }\n",
              "\n",
              "    [theme=dark] .colab-df-convert {\n",
              "      background-color: #3B4455;\n",
              "      fill: #D2E3FC;\n",
              "    }\n",
              "\n",
              "    [theme=dark] .colab-df-convert:hover {\n",
              "      background-color: #434B5C;\n",
              "      box-shadow: 0px 1px 3px 1px rgba(0, 0, 0, 0.15);\n",
              "      filter: drop-shadow(0px 1px 2px rgba(0, 0, 0, 0.3));\n",
              "      fill: #FFFFFF;\n",
              "    }\n",
              "  </style>\n",
              "\n",
              "    <script>\n",
              "      const buttonEl =\n",
              "        document.querySelector('#df-29f7855a-d922-445c-8eb4-3d59d5ee8ddb button.colab-df-convert');\n",
              "      buttonEl.style.display =\n",
              "        google.colab.kernel.accessAllowed ? 'block' : 'none';\n",
              "\n",
              "      async function convertToInteractive(key) {\n",
              "        const element = document.querySelector('#df-29f7855a-d922-445c-8eb4-3d59d5ee8ddb');\n",
              "        const dataTable =\n",
              "          await google.colab.kernel.invokeFunction('convertToInteractive',\n",
              "                                                    [key], {});\n",
              "        if (!dataTable) return;\n",
              "\n",
              "        const docLinkHtml = 'Like what you see? Visit the ' +\n",
              "          '<a target=\"_blank\" href=https://colab.research.google.com/notebooks/data_table.ipynb>data table notebook</a>'\n",
              "          + ' to learn more about interactive tables.';\n",
              "        element.innerHTML = '';\n",
              "        dataTable['output_type'] = 'display_data';\n",
              "        await google.colab.output.renderOutput(dataTable, element);\n",
              "        const docLink = document.createElement('div');\n",
              "        docLink.innerHTML = docLinkHtml;\n",
              "        element.appendChild(docLink);\n",
              "      }\n",
              "    </script>\n",
              "  </div>\n",
              "\n",
              "\n",
              "    <div id=\"df-f04cd2f2-7f00-4735-aa76-24a28fabb0e7\">\n",
              "      <button class=\"colab-df-quickchart\" onclick=\"quickchart('df-f04cd2f2-7f00-4735-aa76-24a28fabb0e7')\"\n",
              "                title=\"Suggest charts\"\n",
              "                style=\"display:none;\">\n",
              "\n",
              "<svg xmlns=\"http://www.w3.org/2000/svg\" height=\"24px\"viewBox=\"0 0 24 24\"\n",
              "     width=\"24px\">\n",
              "    <g>\n",
              "        <path d=\"M19 3H5c-1.1 0-2 .9-2 2v14c0 1.1.9 2 2 2h14c1.1 0 2-.9 2-2V5c0-1.1-.9-2-2-2zM9 17H7v-7h2v7zm4 0h-2V7h2v10zm4 0h-2v-4h2v4z\"/>\n",
              "    </g>\n",
              "</svg>\n",
              "      </button>\n",
              "\n",
              "<style>\n",
              "  .colab-df-quickchart {\n",
              "      --bg-color: #E8F0FE;\n",
              "      --fill-color: #1967D2;\n",
              "      --hover-bg-color: #E2EBFA;\n",
              "      --hover-fill-color: #174EA6;\n",
              "      --disabled-fill-color: #AAA;\n",
              "      --disabled-bg-color: #DDD;\n",
              "  }\n",
              "\n",
              "  [theme=dark] .colab-df-quickchart {\n",
              "      --bg-color: #3B4455;\n",
              "      --fill-color: #D2E3FC;\n",
              "      --hover-bg-color: #434B5C;\n",
              "      --hover-fill-color: #FFFFFF;\n",
              "      --disabled-bg-color: #3B4455;\n",
              "      --disabled-fill-color: #666;\n",
              "  }\n",
              "\n",
              "  .colab-df-quickchart {\n",
              "    background-color: var(--bg-color);\n",
              "    border: none;\n",
              "    border-radius: 50%;\n",
              "    cursor: pointer;\n",
              "    display: none;\n",
              "    fill: var(--fill-color);\n",
              "    height: 32px;\n",
              "    padding: 0;\n",
              "    width: 32px;\n",
              "  }\n",
              "\n",
              "  .colab-df-quickchart:hover {\n",
              "    background-color: var(--hover-bg-color);\n",
              "    box-shadow: 0 1px 2px rgba(60, 64, 67, 0.3), 0 1px 3px 1px rgba(60, 64, 67, 0.15);\n",
              "    fill: var(--button-hover-fill-color);\n",
              "  }\n",
              "\n",
              "  .colab-df-quickchart-complete:disabled,\n",
              "  .colab-df-quickchart-complete:disabled:hover {\n",
              "    background-color: var(--disabled-bg-color);\n",
              "    fill: var(--disabled-fill-color);\n",
              "    box-shadow: none;\n",
              "  }\n",
              "\n",
              "  .colab-df-spinner {\n",
              "    border: 2px solid var(--fill-color);\n",
              "    border-color: transparent;\n",
              "    border-bottom-color: var(--fill-color);\n",
              "    animation:\n",
              "      spin 1s steps(1) infinite;\n",
              "  }\n",
              "\n",
              "  @keyframes spin {\n",
              "    0% {\n",
              "      border-color: transparent;\n",
              "      border-bottom-color: var(--fill-color);\n",
              "      border-left-color: var(--fill-color);\n",
              "    }\n",
              "    20% {\n",
              "      border-color: transparent;\n",
              "      border-left-color: var(--fill-color);\n",
              "      border-top-color: var(--fill-color);\n",
              "    }\n",
              "    30% {\n",
              "      border-color: transparent;\n",
              "      border-left-color: var(--fill-color);\n",
              "      border-top-color: var(--fill-color);\n",
              "      border-right-color: var(--fill-color);\n",
              "    }\n",
              "    40% {\n",
              "      border-color: transparent;\n",
              "      border-right-color: var(--fill-color);\n",
              "      border-top-color: var(--fill-color);\n",
              "    }\n",
              "    60% {\n",
              "      border-color: transparent;\n",
              "      border-right-color: var(--fill-color);\n",
              "    }\n",
              "    80% {\n",
              "      border-color: transparent;\n",
              "      border-right-color: var(--fill-color);\n",
              "      border-bottom-color: var(--fill-color);\n",
              "    }\n",
              "    90% {\n",
              "      border-color: transparent;\n",
              "      border-bottom-color: var(--fill-color);\n",
              "    }\n",
              "  }\n",
              "</style>\n",
              "\n",
              "      <script>\n",
              "        async function quickchart(key) {\n",
              "          const quickchartButtonEl =\n",
              "            document.querySelector('#' + key + ' button');\n",
              "          quickchartButtonEl.disabled = true;  // To prevent multiple clicks.\n",
              "          quickchartButtonEl.classList.add('colab-df-spinner');\n",
              "          try {\n",
              "            const charts = await google.colab.kernel.invokeFunction(\n",
              "                'suggestCharts', [key], {});\n",
              "          } catch (error) {\n",
              "            console.error('Error during call to suggestCharts:', error);\n",
              "          }\n",
              "          quickchartButtonEl.classList.remove('colab-df-spinner');\n",
              "          quickchartButtonEl.classList.add('colab-df-quickchart-complete');\n",
              "        }\n",
              "        (() => {\n",
              "          let quickchartButtonEl =\n",
              "            document.querySelector('#df-f04cd2f2-7f00-4735-aa76-24a28fabb0e7 button');\n",
              "          quickchartButtonEl.style.display =\n",
              "            google.colab.kernel.accessAllowed ? 'block' : 'none';\n",
              "        })();\n",
              "      </script>\n",
              "    </div>\n",
              "\n",
              "    </div>\n",
              "  </div>\n"
            ],
            "application/vnd.google.colaboratory.intrinsic+json": {
              "type": "dataframe",
              "summary": "{\n  \"name\": \"cars_df[['Fuel Information\",\n  \"rows\": 8,\n  \"fields\": [\n    {\n      \"column\": \"Fuel Information.Highway mpg\",\n      \"properties\": {\n        \"dtype\": \"number\",\n        \"std\": 1786.441909556426,\n        \"min\": 5.857461379210974,\n        \"max\": 5075.0,\n        \"num_unique_values\": 8,\n        \"samples\": [\n          24.086305418719213,\n          24.0,\n          5075.0\n        ],\n        \"semantic_type\": \"\",\n        \"description\": \"\"\n      }\n    }\n  ]\n}"
            }
          },
          "metadata": {},
          "execution_count": 99
        }
      ]
    },
    {
      "cell_type": "code",
      "source": [
        "# Clean numeric data\n",
        "x = pd.to_numeric(cars_df['Engine Information.Engine Statistics.Horsepower'])\n",
        "y = pd.to_numeric(cars_df['Fuel Information.Highway mpg'])\n",
        "\n",
        "# Fit 1st-degree polynomial\n",
        "z=np.polyfit(x, y, 1)\n",
        "p = np.poly1d(z)\n",
        "\n",
        "\n",
        "# Create smooth line values\n",
        "x_line = np.linspace(x.min(), x.max(), 200)\n",
        "y_line = p(x_line)\n",
        "\n",
        "#Plot scatterplot\n",
        "sns.scatterplot(data=cars_df, x='Engine Information.Engine Statistics.Horsepower', y='Fuel Information.Highway mpg', color='lightblue')\n",
        "\n",
        "# Plot best-fit line\n",
        "plt.plot(x_line, y_line, color='blue', linewidth=2)\n",
        "\n",
        "plt.title('Engine Power vs Highway MPG without outlier')\n",
        "plt.xlabel('Engine Horsepower')\n",
        "plt.ylabel('Highway MPG')\n",
        "plt.show()"
      ],
      "metadata": {
        "id": "iCErhC4Qhqz4",
        "outputId": "eea7ab70-8bb3-4d11-d866-e25b3b5a056c",
        "colab": {
          "base_uri": "https://localhost:8080/",
          "height": 472
        }
      },
      "execution_count": 100,
      "outputs": [
        {
          "output_type": "display_data",
          "data": {
            "text/plain": [
              "<Figure size 640x480 with 1 Axes>"
            ],
            "image/png": "[encoded data removed]"
          },
          "metadata": {}
        }
      ]
    },
    {
      "cell_type": "markdown",
      "metadata": {
        "id": "NmYMFUMKPy94"
      },
      "source": [
        "3.3 Repeat the same for engine horsepower(x-axis) and engine torque(y-axis) - 0.5 point\n",
        "\n",
        "Optional)(Subjective) What can you tell about the correlation between engine horsepower and engine torque?"
      ]
    },
    {
      "cell_type": "code",
      "execution_count": 101,
      "metadata": {
        "colab": {
          "base_uri": "https://localhost:8080/",
          "height": 472
        },
        "id": "zLBtJ9whPy94",
        "outputId": "924c8e6a-b1ac-4d07-c6b7-f066fe73726c"
      },
      "outputs": [
        {
          "output_type": "display_data",
          "data": {
            "text/plain": [
              "<Figure size 640x480 with 1 Axes>"
            ],
            "image/png": "[encoded data removed]"
          },
          "metadata": {}
        }
      ],
      "source": [
        "\n",
        "# Clean numeric data\n",
        "y = pd.to_numeric(cars_df['Engine Information.Engine Statistics.Torque'])\n",
        "\n",
        "# Fit 1st-degree polynomial\n",
        "z=np.polyfit(x, y, 1)\n",
        "p = np.poly1d(z)\n",
        "\n",
        "\n",
        "# Create smooth line values\n",
        "x_line = np.linspace(x.min(), x.max(), 200)\n",
        "y_line = p(x_line)\n",
        "\n",
        "#Plot scatterplot\n",
        "sns.scatterplot(data=cars_df, x='Engine Information.Engine Statistics.Horsepower', y='Engine Information.Engine Statistics.Torque', color='lightblue')\n",
        "\n",
        "# Plot best-fit line\n",
        "plt.plot(x_line, y_line, color='blue', linewidth=2)\n",
        "\n",
        "plt.title('Engine Power vs Engine Torque')\n",
        "plt.xlabel('Engine Horsepower')\n",
        "plt.ylabel('Engine Torque')\n",
        "plt.show()"
      ]
    },
    {
      "cell_type": "markdown",
      "metadata": {
        "id": "lsknNrBTPy94"
      },
      "source": [
        "### 4. Subplots - 3 points\n",
        "\n",
        "* Create a 2 x 2 subplots of the following plots. Make sure the entire plot is sufficiently large(Hint - check [`rcParams`](https://matplotlib.org/stable/tutorials/introductory/customizing.html) )\n",
        "    * Box plot of highway fuel economiy(Note the extreme outlier. You may optionally remove it before plotting it. Both are acceptable solutions) - 0.5 points\n",
        "    * Pie chart of Model year(`Identification.Year`) - 0.5 points\n",
        "    * Histogram of Length(`Dimensions.Length`) with appropriate bins - 0.5 points\n",
        "    * Scatter-plot of Length vs Width(`Dimensions.Width`) with marker size representing engine horsepower - 0.5 point\n",
        "* Subplot and appropriate labelling - 1 point\n",
        "* The order of the plots does not matter"
      ]
    },
    {
      "cell_type": "code",
      "execution_count": null,
      "metadata": {
        "id": "139hD5VIPy94"
      },
      "outputs": [],
      "source": [
        "# YOUR CODE HERE\n"
      ]
    },
    {
      "cell_type": "markdown",
      "metadata": {
        "id": "igsDu8woPy94"
      },
      "source": [
        "### 5. Heatmap - 3 points\n",
        "\n",
        "* Create a heatmap of \"Make of the car\" vs \"year+transmission type\" for \"number of models for that year\"\n",
        "    * Pick the top 8 car manufactutres (`Identification.Make`) by number of cars produced - x-axis\n",
        "    * Use a combination of model year and transmission type on y-axis.\n",
        "        * All entries with Automatic transmission should be renamed to \"AT\" and manual to \"MT\"\n",
        "        * Each entry on the Y-axis should look like \"2009-AT\" representing the model year 2009 and Automatic transmission type\n",
        "        * This will require some pre-processing with pandas before plotting the heatmap\n",
        "    * Create a heatmap where each data point shows the number of such models created\n",
        "    * The heatmap should be of size 8x8, with top 8 manufactutres on x-axis and 8 combinations(4 years and 2 transmission types) of year-transmission on y-axis"
      ]
    },
    {
      "cell_type": "code",
      "execution_count": null,
      "metadata": {
        "id": "iihWYNtuPy94"
      },
      "outputs": [],
      "source": [
        "# YOUR CODE HERE"
      ]
    },
    {
      "cell_type": "markdown",
      "metadata": {
        "id": "lLkPTvBYPy95"
      },
      "source": [
        "### 6. Pair-plots (Seaborn) - 2 points\n",
        "* Create a pair-plot of the following columns: length, width, highway fuel economy, city fuel economy, engine power, engine torque\n",
        "* Which of the pairs show a positive correlation? Which of the pairs show a negative correlation?"
      ]
    },
    {
      "cell_type": "code",
      "execution_count": null,
      "metadata": {
        "id": "SQ6YQ2ktPy95"
      },
      "outputs": [],
      "source": [
        "# YOUR CODE HERE"
      ]
    }
  ],
  "metadata": {
    "anaconda-cloud": {},
    "kernelspec": {
      "display_name": "Python 3",
      "language": "python",
      "name": "python3"
    },
    "language_info": {
      "codemirror_mode": {
        "name": "ipython",
        "version": 3
      },
      "file_extension": ".py",
      "mimetype": "text/x-python",
      "name": "python",
      "nbconvert_exporter": "python",
      "pygments_lexer": "ipython3",
      "version": "3.11.2"
    },
    "colab": {
      "provenance": []
    }
  },
  "nbformat": 4,
  "nbformat_minor": 0
}