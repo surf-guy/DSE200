{
  "cells": [
    {
      "cell_type": "markdown",
      "metadata": {
        "id": "n_VmovBBtFwT"
      },
      "source": [
        "# MAS DSE 200: Homework 2 - Pandas\n",
        "\n",
        "#### Tasks:\n",
        "\n",
        "- Submission on Gradescope:\n",
        "  - Submit this Jupyter notebook to \"Homework 2\"\n",
        "\n",
        "\n",
        "---\n",
        "\n",
        "Remember: when in doubt, read the documentation first.\n",
        "\n",
        "Python - https://docs.python.org/3/\n",
        "\n",
        "NumPy - https://numpy.org/doc/stable/\n",
        "\n",
        "pandas - https://pandas.pydata.org/docs/"
      ]
    },
    {
      "cell_type": "markdown",
      "metadata": {
        "id": "b-nDBQJhtFwW"
      },
      "source": [
        "## Instructions\n",
        "\n",
        "* You don’t need to explain your approach (unless specified) so please be concise in your submission.\n",
        "* To obtain full marks for a question, both the answer and the code should be correct.\n",
        "* Completely wrong (or missing) code with correct answer will result in zero marks.\n",
        "* Please code the solution in the space provided."
      ]
    },
    {
      "cell_type": "markdown",
      "metadata": {
        "id": "MemJc6sMtFwW"
      },
      "source": [
        "### Imports\n",
        "\n",
        "Import necessary packages"
      ]
    },
    {
      "metadata": {
        "colab": {
          "base_uri": "https://localhost:8080/"
        },
        "id": "icL5L72OGBFZ",
        "outputId": "18f6c859-3c66-4a77-d3f8-63022a170286"
      },
      "cell_type": "code",
      "source": [
        "!pip install pandas numpy requests pillow rasterio"
      ],
      "outputs": [
        {
          "output_type": "stream",
          "name": "stdout",
          "text": [
            "Requirement already satisfied: pandas in /usr/local/lib/python3.12/dist-packages (2.2.2)\n",
            "Requirement already satisfied: numpy in /usr/local/lib/python3.12/dist-packages (2.0.2)\n",
            "Requirement already satisfied: requests in /usr/local/lib/python3.12/dist-packages (2.32.4)\n",
            "Requirement already satisfied: pillow in /usr/local/lib/python3.12/dist-packages (11.3.0)\n",
            "Requirement already satisfied: rasterio in /usr/local/lib/python3.12/dist-packages (1.4.3)\n",
            "Requirement already satisfied: python-dateutil>=2.8.2 in /usr/local/lib/python3.12/dist-packages (from pandas) (2.9.0.post0)\n",
            "Requirement already satisfied: pytz>=2020.1 in /usr/local/lib/python3.12/dist-packages (from pandas) (2025.2)\n",
            "Requirement already satisfied: tzdata>=2022.7 in /usr/local/lib/python3.12/dist-packages (from pandas) (2025.2)\n",
            "Requirement already satisfied: charset_normalizer<4,>=2 in /usr/local/lib/python3.12/dist-packages (from requests) (3.4.3)\n",
            "Requirement already satisfied: idna<4,>=2.5 in /usr/local/lib/python3.12/dist-packages (from requests) (3.10)\n",
            "Requirement already satisfied: urllib3<3,>=1.21.1 in /usr/local/lib/python3.12/dist-packages (from requests) (2.5.0)\n",
            "Requirement already satisfied: certifi>=2017.4.17 in /usr/local/lib/python3.12/dist-packages (from requests) (2025.10.5)\n",
            "Requirement already satisfied: affine in /usr/local/lib/python3.12/dist-packages (from rasterio) (2.4.0)\n",
            "Requirement already satisfied: attrs in /usr/local/lib/python3.12/dist-packages (from rasterio) (25.4.0)\n",
            "Requirement already satisfied: click>=4.0 in /usr/local/lib/python3.12/dist-packages (from rasterio) (8.3.0)\n",
            "Requirement already satisfied: cligj>=0.5 in /usr/local/lib/python3.12/dist-packages (from rasterio) (0.7.2)\n",
            "Requirement already satisfied: click-plugins in /usr/local/lib/python3.12/dist-packages (from rasterio) (1.1.1.2)\n",
            "Requirement already satisfied: pyparsing in /usr/local/lib/python3.12/dist-packages (from rasterio) (3.2.5)\n",
            "Requirement already satisfied: six>=1.5 in /usr/local/lib/python3.12/dist-packages (from python-dateutil>=2.8.2->pandas) (1.17.0)\n"
          ]
        }
      ],
      "execution_count": 34
    },
    {
      "metadata": {
        "id": "wjTfpN2ZGBFa"
      },
      "cell_type": "code",
      "source": [
        "import pandas as pd\n",
        "import numpy as np\n",
        "import requests\n",
        "from pathlib import Path\n",
        "from PIL import Image\n",
        "from io import BytesIO\n",
        "import rasterio\n",
        "from rasterio.transform import from_bounds"
      ],
      "outputs": [],
      "execution_count": 35
    },
    {
      "cell_type": "markdown",
      "metadata": {
        "id": "Ijk8ksNItFwX"
      },
      "source": [
        "## Part 1: Titanic"
      ]
    },
    {
      "cell_type": "markdown",
      "metadata": {
        "id": "sXCFssqXtFwX"
      },
      "source": [
        "### Preliminaries\n",
        "\n",
        "* Grab the dataset from `https://raw.githubusercontent.com/justmarkham/DAT8/master/data/titanic.csv` and store it in a pandas dataframe called `passengers`."
      ]
    },
    {
      "cell_type": "code",
      "metadata": {
        "id": "YkPkHGoFGBFa"
      },
      "source": [
        "# YOUR CODE HERE\n",
        "# download from https://raw.githubusercontent.com/justmarkham/DAT8/master/data/titanic.csv\n",
        "with open('titanic.csv', 'wb') as f:\n",
        "    response = requests.get('https://raw.githubusercontent.com/justmarkham/DAT8/master/data/titanic.csv')\n",
        "    f.write(response.content)\n"
      ],
      "outputs": [],
      "execution_count": 36
    },
    {
      "metadata": {
        "id": "N6_UpDewGBFa"
      },
      "cell_type": "code",
      "source": [
        "# open the csv file as a pandas dataframe\n",
        "passengers = open('titanic.csv', 'r')\n",
        "passengers = pd.read_csv(passengers)"
      ],
      "outputs": [],
      "execution_count": 42
    },
    {
      "cell_type": "markdown",
      "metadata": {
        "id": "Pd2GV_iHtFwY"
      },
      "source": [
        "### 1: Get to know your data - **20 points**"
      ]
    },
    {
      "metadata": {
        "id": "ajkhm0HBGBFa"
      },
      "cell_type": "markdown",
      "source": [
        "**1.1**: Print the first 15 entries in the dataframe to see what the columns are and what some values will look like - **5 points**"
      ]
    },
    {
      "metadata": {
        "colab": {
          "base_uri": "https://localhost:8080/"
        },
        "id": "vBClLSxNGBFb",
        "outputId": "bddfa271-c228-42a5-e0be-2198b10d1687"
      },
      "cell_type": "code",
      "source": [
        "print(passengers.head(15))"
      ],
      "outputs": [
        {
          "output_type": "stream",
          "name": "stdout",
          "text": [
            "    PassengerId  Survived  Pclass  \\\n",
            "0             1         0       3   \n",
            "1             2         1       1   \n",
            "2             3         1       3   \n",
            "3             4         1       1   \n",
            "4             5         0       3   \n",
            "5             6         0       3   \n",
            "6             7         0       1   \n",
            "7             8         0       3   \n",
            "8             9         1       3   \n",
            "9            10         1       2   \n",
            "10           11         1       3   \n",
            "11           12         1       1   \n",
            "12           13         0       3   \n",
            "13           14         0       3   \n",
            "14           15         0       3   \n",
            "\n",
            "                                                 Name     Sex   Age  SibSp  \\\n",
            "0                             Braund, Mr. Owen Harris    male  22.0      1   \n",
            "1   Cumings, Mrs. John Bradley (Florence Briggs Th...  female  38.0      1   \n",
            "2                              Heikkinen, Miss. Laina  female  26.0      0   \n",
            "3        Futrelle, Mrs. Jacques Heath (Lily May Peel)  female  35.0      1   \n",
            "4                            Allen, Mr. William Henry    male  35.0      0   \n",
            "5                                    Moran, Mr. James    male   NaN      0   \n",
            "6                             McCarthy, Mr. Timothy J    male  54.0      0   \n",
            "7                      Palsson, Master. Gosta Leonard    male   2.0      3   \n",
            "8   Johnson, Mrs. Oscar W (Elisabeth Vilhelmina Berg)  female  27.0      0   \n",
            "9                 Nasser, Mrs. Nicholas (Adele Achem)  female  14.0      1   \n",
            "10                    Sandstrom, Miss. Marguerite Rut  female   4.0      1   \n",
            "11                           Bonnell, Miss. Elizabeth  female  58.0      0   \n",
            "12                     Saundercock, Mr. William Henry    male  20.0      0   \n",
            "13                        Andersson, Mr. Anders Johan    male  39.0      1   \n",
            "14               Vestrom, Miss. Hulda Amanda Adolfina  female  14.0      0   \n",
            "\n",
            "    Parch            Ticket     Fare Cabin Embarked  \n",
            "0       0         A/5 21171   7.2500   NaN        S  \n",
            "1       0          PC 17599  71.2833   C85        C  \n",
            "2       0  STON/O2. 3101282   7.9250   NaN        S  \n",
            "3       0            113803  53.1000  C123        S  \n",
            "4       0            373450   8.0500   NaN        S  \n",
            "5       0            330877   8.4583   NaN        Q  \n",
            "6       0             17463  51.8625   E46        S  \n",
            "7       1            349909  21.0750   NaN        S  \n",
            "8       2            347742  11.1333   NaN        S  \n",
            "9       0            237736  30.0708   NaN        C  \n",
            "10      1           PP 9549  16.7000    G6        S  \n",
            "11      0            113783  26.5500  C103        S  \n",
            "12      0         A/5. 2151   8.0500   NaN        S  \n",
            "13      5            347082  31.2750   NaN        S  \n",
            "14      0            350406   7.8542   NaN        S  \n"
          ]
        }
      ],
      "execution_count": 43
    },
    {
      "metadata": {
        "id": "ZYMxEtp-GBFb"
      },
      "cell_type": "markdown",
      "source": [
        "**1.2**: Next, set the index of the dataframe to the `PassengerId` column, and print the first 10 elements again to ensure the change took place - **5 points**"
      ]
    },
    {
      "metadata": {
        "colab": {
          "base_uri": "https://localhost:8080/"
        },
        "id": "9MzTVzwcGBFb",
        "outputId": "2e3d2597-4172-44a4-d8c6-a29c994df208"
      },
      "cell_type": "code",
      "source": [
        "passengers = passengers.set_index('PassengerId')\n",
        "print(passengers.head(10))"
      ],
      "outputs": [
        {
          "output_type": "stream",
          "name": "stdout",
          "text": [
            "             Survived  Pclass  \\\n",
            "PassengerId                     \n",
            "1                   0       3   \n",
            "2                   1       1   \n",
            "3                   1       3   \n",
            "4                   1       1   \n",
            "5                   0       3   \n",
            "6                   0       3   \n",
            "7                   0       1   \n",
            "8                   0       3   \n",
            "9                   1       3   \n",
            "10                  1       2   \n",
            "\n",
            "                                                          Name     Sex   Age  \\\n",
            "PassengerId                                                                    \n",
            "1                                      Braund, Mr. Owen Harris    male  22.0   \n",
            "2            Cumings, Mrs. John Bradley (Florence Briggs Th...  female  38.0   \n",
            "3                                       Heikkinen, Miss. Laina  female  26.0   \n",
            "4                 Futrelle, Mrs. Jacques Heath (Lily May Peel)  female  35.0   \n",
            "5                                     Allen, Mr. William Henry    male  35.0   \n",
            "6                                             Moran, Mr. James    male   NaN   \n",
            "7                                      McCarthy, Mr. Timothy J    male  54.0   \n",
            "8                               Palsson, Master. Gosta Leonard    male   2.0   \n",
            "9            Johnson, Mrs. Oscar W (Elisabeth Vilhelmina Berg)  female  27.0   \n",
            "10                         Nasser, Mrs. Nicholas (Adele Achem)  female  14.0   \n",
            "\n",
            "             SibSp  Parch            Ticket     Fare Cabin Embarked  \n",
            "PassengerId                                                          \n",
            "1                1      0         A/5 21171   7.2500   NaN        S  \n",
            "2                1      0          PC 17599  71.2833   C85        C  \n",
            "3                0      0  STON/O2. 3101282   7.9250   NaN        S  \n",
            "4                1      0            113803  53.1000  C123        S  \n",
            "5                0      0            373450   8.0500   NaN        S  \n",
            "6                0      0            330877   8.4583   NaN        Q  \n",
            "7                0      0             17463  51.8625   E46        S  \n",
            "8                3      1            349909  21.0750   NaN        S  \n",
            "9                0      2            347742  11.1333   NaN        S  \n",
            "10               1      0            237736  30.0708   NaN        C  \n"
          ]
        }
      ],
      "execution_count": 44
    },
    {
      "metadata": {
        "id": "eAQ9Lm3uGBFb"
      },
      "cell_type": "markdown",
      "source": [
        "**1.3**: How many samples are there in this dataset? - **5 points**"
      ]
    },
    {
      "metadata": {
        "colab": {
          "base_uri": "https://localhost:8080/"
        },
        "id": "44tWXAvLGBFb",
        "outputId": "5924c94d-3b9a-4962-c1f4-db68a11dab66"
      },
      "cell_type": "code",
      "source": [
        "# YOUR CODE HERE\n",
        "print(\"There are\",passengers.shape[0],\"samples in this dataset\")"
      ],
      "outputs": [
        {
          "output_type": "stream",
          "name": "stdout",
          "text": [
            "There are 891 samples in this dataset\n"
          ]
        }
      ],
      "execution_count": 47
    },
    {
      "metadata": {
        "id": "8UGOy9bpGBFb"
      },
      "cell_type": "markdown",
      "source": [
        "**1.4** How many samples contain `null`/`NaN` in atleast one of the columns? - **5 points**"
      ]
    },
    {
      "metadata": {
        "colab": {
          "base_uri": "https://localhost:8080/"
        },
        "id": "4Oy0FAHHGBFb",
        "outputId": "a67a1bc4-d260-4403-cba7-be6972bc427b"
      },
      "cell_type": "code",
      "source": [
        "# YOUR CODE HERE\n",
        "print(\"There are\",passengers.isna().any(axis=1).sum(),\"samples that contain null/NaN in atleast one of the columns\")\n",
        "\n"
      ],
      "outputs": [
        {
          "output_type": "stream",
          "name": "stdout",
          "text": [
            "There are 708 samples that contain null/NaN in atleast one of the columns\n"
          ]
        }
      ],
      "execution_count": 49
    },
    {
      "cell_type": "markdown",
      "metadata": {
        "id": "7KoM_CZatFwa"
      },
      "source": [
        "### 2: Summary statistics - **30 points**"
      ]
    },
    {
      "metadata": {
        "id": "vInk304JGBFb"
      },
      "cell_type": "markdown",
      "source": [
        "**2.1**: Print the `min`, `max`, `mean` and `median` of age and fare of all passengers - **10 points**\n",
        "\n",
        "Hint - Look at [`DataFrame.agg`](https://pandas.pydata.org/docs/reference/api/pandas.DataFrame.agg.html#pandas.DataFrame.agg)"
      ]
    },
    {
      "metadata": {
        "id": "Yfsc3UzAGBFb"
      },
      "cell_type": "code",
      "source": [
        "# YOUR CODE HERE\n"
      ],
      "outputs": [],
      "execution_count": null
    },
    {
      "metadata": {
        "id": "KahqGTXQGBFb"
      },
      "cell_type": "markdown",
      "source": [
        "**2.2**: What is the average ticket fare price for male vs female passengers on the Titanic? - **10 points**\n",
        "\n",
        "Note - The output should only have `Sex` and `Fare`\n",
        "\n",
        "*Hint* - Look at [`DataFrame.groupby`](https://pandas.pydata.org/docs/reference/api/pandas.DataFrame.groupby.html#pandas.DataFrame.groupby)"
      ]
    },
    {
      "metadata": {
        "id": "laSS8WPTGBFc"
      },
      "cell_type": "code",
      "source": [
        "# YOUR CODE HERE\n"
      ],
      "outputs": [],
      "execution_count": null
    },
    {
      "metadata": {
        "id": "XytX0ZOaGBFc"
      },
      "cell_type": "markdown",
      "source": [
        "**2.3** What is the mean age for each of the sex and cabin class combinations? - **10 points**"
      ]
    },
    {
      "metadata": {
        "id": "hl4Ng49UGBFc"
      },
      "cell_type": "code",
      "source": [
        "# YOUR CODE HERE\n"
      ],
      "outputs": [],
      "execution_count": null
    },
    {
      "cell_type": "markdown",
      "metadata": {
        "id": "y9nyvmk6tFwb"
      },
      "source": [
        "### 3:  Number of passengers in different classes - **20 points**"
      ]
    },
    {
      "metadata": {
        "id": "VsuLxWs-GBFc"
      },
      "cell_type": "markdown",
      "source": [
        "**3.1**: What is the number of passenges in different classes according to this dataset? (Hint: Pclass represents the class of a passenger.) - **5 points**"
      ]
    },
    {
      "metadata": {
        "id": "NKAr6MY9GBFc"
      },
      "cell_type": "code",
      "source": [
        "# YOUR CODE HERE\n"
      ],
      "outputs": [],
      "execution_count": null
    },
    {
      "metadata": {
        "id": "tgN6ZLs9GBFc"
      },
      "cell_type": "markdown",
      "source": [
        "**3.2** How many passengers in 1st class (`Pclass = 1`) are women (`Sex = female`) above the age of 27? - **5 points**"
      ]
    },
    {
      "metadata": {
        "id": "8p__y3_HGBFc"
      },
      "cell_type": "code",
      "source": [
        "# YOUR CODE HERE\n"
      ],
      "outputs": [],
      "execution_count": null
    },
    {
      "metadata": {
        "id": "8GSppjj_GBFc"
      },
      "cell_type": "markdown",
      "source": [
        "**3.3** What fraction of passengers from each class survived? (`Survived=1`) - **10 points**"
      ]
    },
    {
      "metadata": {
        "id": "5oMp9yzwGBFc"
      },
      "cell_type": "code",
      "source": [
        "# YOUR CODE HERE\n"
      ],
      "outputs": [],
      "execution_count": null
    },
    {
      "cell_type": "markdown",
      "metadata": {
        "id": "AqhePjcBtFwc"
      },
      "source": [
        "### 4:  Fares - **30 points**"
      ]
    },
    {
      "metadata": {
        "id": "HKirFRELGBFc"
      },
      "cell_type": "markdown",
      "source": [
        "**4.1**: How many different fares were charged on the Titanic based on the dataset? - **5 points**"
      ]
    },
    {
      "metadata": {
        "id": "4Pa_7GbWGBFc"
      },
      "cell_type": "code",
      "source": [
        "# YOUR CODE HERE\n"
      ],
      "outputs": [],
      "execution_count": null
    },
    {
      "metadata": {
        "id": "xlI5DcoOGBFd"
      },
      "cell_type": "markdown",
      "source": [
        "**4.2**: Find the top 10 fares charged from the passengers. **Report these fare values**, and then **calculate the total number of passengers** who paid one of these top 10 fare amounts - **10 points**"
      ]
    },
    {
      "metadata": {
        "id": "5Y4lYvixGBFd"
      },
      "cell_type": "code",
      "source": [
        "# YOUR CODE HERE"
      ],
      "outputs": [],
      "execution_count": null
    },
    {
      "metadata": {
        "id": "pAobhAxcGBFd"
      },
      "cell_type": "markdown",
      "source": [
        "**4.3**: Create a new dataset, called `passengers_filtered`, that includes only entries of passengers who paid one of these top 10 fares. **Report the number of samples** in the original dataset and in the new dataset to ensure the desired effect took place - **10 points**\n",
        "\n",
        "**hint:** Check out the Pandas Series function [isin](https://pandas.pydata.org/pandas-docs/stable/generated/pandas.Series.isin.html)"
      ]
    },
    {
      "metadata": {
        "id": "g6PdudzOGBFd"
      },
      "cell_type": "code",
      "source": [
        "# YOUR CODE HERE\n"
      ],
      "outputs": [],
      "execution_count": null
    },
    {
      "cell_type": "markdown",
      "metadata": {
        "id": "xlM-BT7vtFwd"
      },
      "source": [
        "### 5:  Ages - **30 points**"
      ]
    },
    {
      "metadata": {
        "id": "3QSuB8tqGBFd"
      },
      "cell_type": "markdown",
      "source": [
        "**5.1**: What was the minimum, maximum and average age of passengers on the Titanic? - **5 points**"
      ]
    },
    {
      "metadata": {
        "id": "mvwS5xk6GBFd"
      },
      "cell_type": "code",
      "source": [
        "# YOUR CODE HERE\n"
      ],
      "outputs": [],
      "execution_count": null
    },
    {
      "metadata": {
        "id": "AMZecqgxGBFd"
      },
      "cell_type": "markdown",
      "source": [
        "**5.2**: How many passengers on the Titanic were within one standard deviation of the mean age calculated in **5.1**? - **10 points**"
      ]
    },
    {
      "metadata": {
        "id": "12VnACinGBFd"
      },
      "cell_type": "code",
      "source": [
        "# YOUR CODE HERE\n"
      ],
      "outputs": [],
      "execution_count": null
    },
    {
      "metadata": {
        "id": "xuDDwTaiGBFd"
      },
      "cell_type": "markdown",
      "source": [
        "**5.3**: How many of the passengers found in **5.2** were females over the age of 25? - **5 points**"
      ]
    },
    {
      "metadata": {
        "id": "7Kz9LtXYGBFd"
      },
      "cell_type": "code",
      "source": [
        "# YOUR CODE HERE\n"
      ],
      "outputs": [],
      "execution_count": null
    },
    {
      "metadata": {
        "id": "7zWAiQheGBFe"
      },
      "cell_type": "markdown",
      "source": [
        "**5.4**: What are the 10 **most** common ages of passengers according to this dataset? - **5 points**"
      ]
    },
    {
      "metadata": {
        "id": "QHMI-jPdGBFe"
      },
      "cell_type": "code",
      "source": [
        "# YOUR CODE HERE\n"
      ],
      "outputs": [],
      "execution_count": null
    },
    {
      "cell_type": "markdown",
      "metadata": {
        "id": "qcFNQrjBtFwd"
      },
      "source": [
        "## Part 2: Beer Review - 20 points"
      ]
    },
    {
      "cell_type": "markdown",
      "metadata": {
        "id": "KlmEf9xxtFwd"
      },
      "source": [
        "Use the `beer_reviews` dataframe created for you"
      ]
    },
    {
      "metadata": {
        "id": "e0PFmxhnGBFe"
      },
      "cell_type": "code",
      "source": [
        "reviews = []\n",
        "response = requests.get(\"https://jmcauley.ucsd.edu/cse255/data/beer/beer_50000.json\")\n",
        "for line in response.text.splitlines():\n",
        "    reviews.append(eval(line))\n",
        "\n",
        "beer_reviews = pd.DataFrame(reviews)"
      ],
      "outputs": [],
      "execution_count": null
    },
    {
      "metadata": {
        "id": "_hFlwN5pGBFe"
      },
      "cell_type": "markdown",
      "source": [
        "**6.1**: Which are the top 15 beers with the highest average ratings (`review/overall`)? - **10 points**"
      ]
    },
    {
      "metadata": {
        "id": "lJiVRFTRGBFe"
      },
      "cell_type": "code",
      "source": [
        "# YOUR CODE HERE\n"
      ],
      "outputs": [],
      "execution_count": null
    },
    {
      "cell_type": "markdown",
      "metadata": {
        "id": "ke4epiT5tFwd"
      },
      "source": [
        "**6.2**: Which of the following - `review/palate`, `review/taste`, `review/aroma`, length of `review/text`(number of words in the review text) - correlate highest with `review/overall`? - **10 points**\n",
        "\n",
        "NOTE - `review/text` is of type string while the other reviews are of type float. Use the length of `review/text` instead. You may need to create a new column in the data frame"
      ]
    },
    {
      "metadata": {
        "id": "AMwFdGAYGBFe"
      },
      "cell_type": "code",
      "source": [
        "# YOUR CODE HERE\n"
      ],
      "outputs": [],
      "execution_count": null
    },
    {
      "metadata": {
        "id": "pG8ChxT2GBFe"
      },
      "cell_type": "markdown",
      "source": [
        "## Part 3: Geospatial Data - 10 points"
      ]
    },
    {
      "metadata": {
        "id": "j79MZAKOGBFe"
      },
      "cell_type": "code",
      "source": [
        "\n",
        "data_dir = Path('fire_data')\n",
        "data_dir.mkdir(exist_ok=True)"
      ],
      "outputs": [],
      "execution_count": null
    },
    {
      "metadata": {
        "id": "U9vWOL2_GBFe"
      },
      "cell_type": "code",
      "source": [
        "# Select a new area\n",
        "# http://bboxfinder.com/#-117.500249,32.665157,-116.820470,33.012173\n",
        "# Go to the above link and select an area of interest\n",
        "# Example bbox for San Diego area: [-117.500249, 32.665157, -116.820470, 33.012173]\n",
        "bbox = [-117.500249, 32.665157, -116.820470, 33.012173]  # Replace with your chosen area\n",
        "\n",
        "print(f\"Study Area Bounding Box: {bbox}\")\n",
        "print(f\"Longitude: {bbox[0]:.2f} to {bbox[2]:.2f}\")\n",
        "print(f\"Latitude: {bbox[1]:.2f} to {bbox[3]:.2f}\")"
      ],
      "outputs": [],
      "execution_count": null
    },
    {
      "metadata": {
        "id": "i8Zbfut6GBFe"
      },
      "cell_type": "code",
      "source": [
        "def get_naip_imagery(bbox, output_path):\n",
        "    \"\"\"\n",
        "    Fetch NAIP imagery - simple version\n",
        "    Always gets 1024x1024 pixels, no calculations\n",
        "    \"\"\"\n",
        "    base_url = \"https://imagery.nationalmap.gov/arcgis/rest/services/USGSNAIPImagery/ImageServer/exportImage\"\n",
        "\n",
        "    params = {\n",
        "        'bbox': f\"{bbox[0]},{bbox[1]},{bbox[2]},{bbox[3]}\",\n",
        "        'bboxSR': '4326',\n",
        "        'size': '1024, 1024',\n",
        "        'imageSR': '4326',\n",
        "        'format': 'tiff',  # Get TIFF to preserve all bands\n",
        "        'pixelType': 'U16',\n",
        "        'f': 'image'\n",
        "    }\n",
        "\n",
        "    print(f\"Requesting NAIP imagery: 1024x1024 pixels\")\n",
        "    response = requests.get(base_url, params=params, timeout=120)\n",
        "\n",
        "    if response.status_code == 200:\n",
        "        # Save directly - no conversion needed\n",
        "        with open(output_path, 'wb') as f:\n",
        "            f.write(response.content)\n",
        "\n",
        "        print(f\"✓ NAIP imagery saved to {output_path}\")\n",
        "        return True\n",
        "    else:\n",
        "        print(f\"Error fetching NAIP: {response.status_code}\")\n",
        "        return False\n",
        "\n",
        "\n",
        "# Use it\n",
        "naip_file = data_dir / 'naip_imagery.tif'\n",
        "print(\"Downloading NAIP imagery...\")\n",
        "success = get_naip_imagery(bbox, naip_file)\n",
        "\n",
        "if success:\n",
        "    # Check what we got\n",
        "    with rasterio.open(naip_file) as src:\n",
        "        print(f\"Bands: {src.count}\")\n",
        "        print(f\"Size: {src.width}x{src.height}\")"
      ],
      "outputs": [],
      "execution_count": null
    },
    {
      "metadata": {
        "id": "rzLYuL5nGBFf"
      },
      "cell_type": "markdown",
      "source": [
        "### Task - Geospatial Data Analysis - 10 points\n",
        "\n",
        "Based on the NAIP imagery data you've downloaded, create your own analytics to explore the geospatial data.\n",
        "\n",
        "**Requirements (10 points total):**\n",
        "1. **Visualize the imagery** (3 points) - Display the RGB bands properly\n",
        "2. **Identify color patterns** (3 points) - Create masks to identify 2 colors (e.g., green for vegetation, brown for bare soil) or any other colors of your choice\n",
        "3. **Analyze spatial patterns** (4 points) - Use your color masks to calculate statistics (e.g., percentage of green vs brown areas, spatial distribution)\n",
        "\n",
        "You should create 3 different visualizations or analyses demonstrating your understanding of geospatial data manipulation with pandas and rasterio."
      ]
    },
    {
      "metadata": {
        "id": "81ZJzfAYGBFf"
      },
      "cell_type": "code",
      "source": [
        "# Your code here"
      ],
      "outputs": [],
      "execution_count": null
    }
  ],
  "metadata": {
    "colab": {
      "provenance": []
    },
    "kernelspec": {
      "display_name": "Python 3 (ipykernel)",
      "language": "python",
      "name": "python3"
    },
    "language_info": {
      "codemirror_mode": {
        "name": "ipython",
        "version": 3
      },
      "file_extension": ".py",
      "mimetype": "text/x-python",
      "name": "python",
      "nbconvert_exporter": "python",
      "pygments_lexer": "ipython3",
      "version": "3.12.4"
    }
  },
  "nbformat": 4,
  "nbformat_minor": 0
}