{
  "cells": [
    {
      "cell_type": "markdown",
      "metadata": {
        "id": "view-in-github",
        "colab_type": "text"
      },
      "source": [
        "<a href=\"https://colab.research.google.com/github/surf-guy/DSE200/blob/main/HW/Le_HW_1.ipynb\" target=\"_parent\"><img src=\"https://colab.research.google.com/assets/colab-badge.svg\" alt=\"Open In Colab\"/></a>"
      ]
    },
    {
      "cell_type": "markdown",
      "metadata": {
        "id": "mrH3tEJ35zj4"
      },
      "source": [
        "# DSE 200: Homework 1 - Python and NumPy\n",
        "\n",
        "#### Tasks:\n",
        "\n",
        "- Introduction to Python and NumPy.  \n",
        "  \n",
        "- Submission on Gradescope:\n",
        "  - Submit this Jupyter notebook to \"Homework 1\"\n",
        "\n",
        "#### Due date: Thursday 10/9/2025 at 11:59 PM PST\n",
        "\n",
        "---\n",
        "\n",
        "Remember: when in doubt, read the documentation first.\n",
        "\n",
        "Python - https://docs.python.org/3/\n",
        "\n",
        "NumPy - https://numpy.org/doc/stable/\n",
        "\n",
        "matplotlib - https://matplotlib.org/contents.html"
      ]
    },
    {
      "cell_type": "code",
      "execution_count": 1,
      "metadata": {
        "id": "R7jGvdiglcBM",
        "outputId": "644a9ac0-17b3-4a37-cb39-dea9c523a81d",
        "colab": {
          "base_uri": "https://localhost:8080/"
        }
      },
      "outputs": [
        {
          "output_type": "stream",
          "name": "stdout",
          "text": [
            "Requirement already satisfied: numpy in /usr/local/lib/python3.12/dist-packages (2.0.2)\n",
            "Requirement already satisfied: matplotlib in /usr/local/lib/python3.12/dist-packages (3.10.0)\n",
            "Requirement already satisfied: contourpy>=1.0.1 in /usr/local/lib/python3.12/dist-packages (from matplotlib) (1.3.3)\n",
            "Requirement already satisfied: cycler>=0.10 in /usr/local/lib/python3.12/dist-packages (from matplotlib) (0.12.1)\n",
            "Requirement already satisfied: fonttools>=4.22.0 in /usr/local/lib/python3.12/dist-packages (from matplotlib) (4.60.1)\n",
            "Requirement already satisfied: kiwisolver>=1.3.1 in /usr/local/lib/python3.12/dist-packages (from matplotlib) (1.4.9)\n",
            "Requirement already satisfied: numpy>=1.23 in /usr/local/lib/python3.12/dist-packages (from matplotlib) (2.0.2)\n",
            "Requirement already satisfied: packaging>=20.0 in /usr/local/lib/python3.12/dist-packages (from matplotlib) (25.0)\n",
            "Requirement already satisfied: pillow>=8 in /usr/local/lib/python3.12/dist-packages (from matplotlib) (11.3.0)\n",
            "Requirement already satisfied: pyparsing>=2.3.1 in /usr/local/lib/python3.12/dist-packages (from matplotlib) (3.2.5)\n",
            "Requirement already satisfied: python-dateutil>=2.7 in /usr/local/lib/python3.12/dist-packages (from matplotlib) (2.9.0.post0)\n",
            "Requirement already satisfied: six>=1.5 in /usr/local/lib/python3.12/dist-packages (from python-dateutil>=2.7->matplotlib) (1.17.0)\n"
          ]
        }
      ],
      "source": [
        "# install numpy and matplotlib\n",
        "%pip install numpy\n",
        "%pip install matplotlib"
      ]
    },
    {
      "cell_type": "markdown",
      "metadata": {
        "id": "Xhtmv3sH5zj8"
      },
      "source": [
        "## Instructions\n",
        "\n",
        "* You don’t need to explain your approach (unless specified) so please be concise in your submission.\n",
        "* To obtain full marks for a question, both the answer and the code should be correct.\n",
        "* Completely wrong (or missing) code with correct answer will result in zero marks.\n",
        "* Please code the solution in the space provided."
      ]
    },
    {
      "cell_type": "markdown",
      "metadata": {
        "id": "fU5gOTkr5zj9"
      },
      "source": [
        "## Part 1 - Python basics"
      ]
    },
    {
      "cell_type": "markdown",
      "metadata": {
        "id": "JtLEwbsK5zj-"
      },
      "source": [
        "### 1.  Write a program to swap a string and an int variable and print their data types to verify the swapping operation\n",
        "\n",
        "* Initialize 2 variables my_int = 5 , and my_float = 1.5\n",
        "* Swap these variables such that my_int now holds the value of my_float and vice versa\n",
        "* Verify this by printing their data types"
      ]
    },
    {
      "cell_type": "code",
      "execution_count": 5,
      "metadata": {
        "id": "do9xFYLz5zj-",
        "colab": {
          "base_uri": "https://localhost:8080/"
        },
        "outputId": "10fadb00-edf8-425e-8333-32416feb804b"
      },
      "outputs": [
        {
          "output_type": "stream",
          "name": "stdout",
          "text": [
            "Value of my_int =  5\n",
            "Data type of my_int =  <class 'int'>\n",
            "Value of my_float =  1.5\n",
            "Data type of my_float =  <class 'float'>\n",
            "Value of my_int =  1.5\n",
            "Data type of my_int =  <class 'float'>\n",
            "Value of my_float =  5\n",
            "Data type of my_float =  <class 'int'>\n"
          ]
        }
      ],
      "source": [
        "# COMPLETE THE CELL BELOW\n",
        "\n",
        "my_int = 5\n",
        "my_float = 1.5\n",
        "\n",
        "print (\"Value of my_int = \", my_int )\n",
        "print (\"Data type of my_int = \", type(my_int))\n",
        "print (\"Value of my_float = \", my_float)\n",
        "print (\"Data type of my_float = \", type(my_float))\n",
        "\n",
        "# Swap the variables\n",
        "my_int = 1.5\n",
        "my_float = 5\n",
        "\n",
        "print (\"Value of my_int = \", my_int )\n",
        "print (\"Data type of my_int = \", type(my_int))\n",
        "print (\"Value of my_float = \", my_float)\n",
        "print (\"Data type of my_float = \", type(my_float))"
      ]
    },
    {
      "cell_type": "markdown",
      "metadata": {
        "id": "JbaOw1RQ5zkA"
      },
      "source": [
        "### 2. Write a Python Program to Calculate the area and perimeter of a circle of radius `r`\n",
        "\n",
        " $area = \\pi r^2$\n",
        "\n",
        " $perimter = 2 \\pi r$\n",
        "\n",
        " Hint - Use `math.pi` to get the value of $\\pi$"
      ]
    },
    {
      "cell_type": "code",
      "execution_count": 7,
      "metadata": {
        "id": "vACBZHdG5zkB",
        "colab": {
          "base_uri": "https://localhost:8080/"
        },
        "outputId": "e33818fb-eb13-4294-9640-9318408daeb4"
      },
      "outputs": [
        {
          "output_type": "stream",
          "name": "stdout",
          "text": [
            "The area of the circle are 98.52 and the perimeter is 35.19\n"
          ]
        }
      ],
      "source": [
        "# COMPLETE THE CELL BELOW\n",
        "import math\n",
        "\n",
        "r = 5.6\n",
        "\n",
        "area = math.pi*(r**2)\n",
        "perimeter = 2*math.pi*r\n",
        "\n",
        "print('The area of the circle are %0.2f' %area,  'and the perimeter is %0.02f' %perimeter )"
      ]
    },
    {
      "cell_type": "markdown",
      "metadata": {
        "id": "tNCM-LSZ5zkB"
      },
      "source": [
        "### 3.1 Write a Python function to Check if a Number is divisible by 3\n",
        "\n",
        "* Complete the function block\n",
        "* Initialize a variable `num`\n",
        "* Pass the `num` variable to `is_divisible_by_3` function. Print if the number is divisible by 3\n",
        "* Hint - A number is divisible by 3 if the sum of the digits is divisible by 3. Implement this check"
      ]
    },
    {
      "cell_type": "code",
      "execution_count": null,
      "metadata": {
        "id": "OyX8PIAA5zkC"
      },
      "outputs": [],
      "source": [
        "# COMPLETE CELL BELOW\n",
        "\n",
        "def is_divisible_by_3(n):\n",
        "    # Complete this function\n",
        "\n",
        "num = # Take input from user\n",
        "\n",
        "# Check if the number is divisible by 3\n"
      ]
    },
    {
      "cell_type": "markdown",
      "metadata": {
        "id": "oGms5RYN5zkC"
      },
      "source": [
        "### 3.2. Write a Python function to Check if a Number is divisible by 2\n",
        "\n",
        "* Complete the function block\n",
        "* Initialize a variable `num`\n",
        "* Pass the `num` variable to `is_divisible_by_2` function. Print if the number is divisible by 2"
      ]
    },
    {
      "cell_type": "code",
      "execution_count": null,
      "metadata": {
        "id": "6oei8Jwb5zkD"
      },
      "outputs": [],
      "source": [
        "# COMPLETE CELL BELOW\n",
        "\n",
        "def is_divisible_by_2(n):\n",
        "    # Complete this function\n",
        "\n",
        "num = # Take input from user\n",
        "\n",
        "# Check if the number is divisible by 2\n"
      ]
    },
    {
      "cell_type": "markdown",
      "metadata": {
        "id": "_xpmKYrA5zkD"
      },
      "source": [
        "### 3.3. Write a Python function to Check if a Number is divisible by 6\n",
        "\n",
        "* Complete the function block\n",
        "* Initialize a variable `num`\n",
        "* Pass the `num` variable to `is_divisible_by_6` function. Print if the number is divisible by 6\n",
        "* Hint - A number is divisible by 6 if it is divisible by both 2 and 3. Use the previously defined functions to check for this."
      ]
    },
    {
      "cell_type": "code",
      "execution_count": null,
      "metadata": {
        "id": "EvalPJyU5zkE"
      },
      "outputs": [],
      "source": [
        "# COMPLETE CELL BELOW\n",
        "\n",
        "def is_divisible_by_6(n):\n",
        "    # Complete this function\n",
        "\n",
        "num = # Take input from user\n",
        "\n",
        "# Check if the number is divisible by 6\n"
      ]
    },
    {
      "cell_type": "markdown",
      "metadata": {
        "id": "oR5jwq8D5zkE"
      },
      "source": [
        "### 4. Write a Python Program to Check if a number has exactly 3 digits(no zeros allowed at the beginning)\n",
        "\n",
        "* Initialize a variable `num`\n",
        "* Check and print if the number has 3 digits(no zeros allowed at the beginning)"
      ]
    },
    {
      "cell_type": "code",
      "execution_count": null,
      "metadata": {
        "id": "awTKUW8x5zkE"
      },
      "outputs": [],
      "source": [
        "# COMPLETE THE CELL BELOW\n",
        "\n",
        "num = # Take input from user\n",
        "\n",
        "# Check if the number has exactly 3 digits"
      ]
    },
    {
      "cell_type": "markdown",
      "metadata": {
        "id": "e5dEs8m65zkE"
      },
      "source": [
        "### 5. Write a Python Program to Check Whether a string is palindrome or not\n",
        "\n",
        "* Initialize a string\n",
        "* Lower case it to allow easy comparison - Use `my_str.lower()`\n",
        "* Check using if-else statements if the string is a palindrome\n",
        "* A palindrome is a string which is same read forward or backwards.\n",
        "* Alternatively, use the [`extended slice`](https://docs.python.org/3/whatsnew/2.3.html#extended-slices) syntax to reverse a string and check for palindrome"
      ]
    },
    {
      "cell_type": "code",
      "execution_count": null,
      "metadata": {
        "id": "L3kVBP_F5zkF"
      },
      "outputs": [],
      "source": [
        "# COMPLETE CELL BELOW\n",
        "\n",
        "my_str = 'aIbohPhoBiA' # change this value for a different output"
      ]
    },
    {
      "cell_type": "markdown",
      "metadata": {
        "id": "kDTlzYs15zkF"
      },
      "source": [
        "### 6.  Print numbers divisible by 5 between 4 and 30, inclusive\n",
        "\n",
        "* One optimization would be to only generate numbers that are multiples of 5"
      ]
    },
    {
      "cell_type": "code",
      "execution_count": null,
      "metadata": {
        "id": "bfAGJlQA5zkF"
      },
      "outputs": [],
      "source": [
        "# COMPLETE THE CELL BELOW\n",
        "\n",
        "limit = range(4,31)\n",
        "for number in limit: # Complete the loop\n"
      ]
    },
    {
      "cell_type": "markdown",
      "metadata": {
        "id": "dyCQZVVY5zkF"
      },
      "source": [
        "### 7. Write a Python Program to print the first n numbers of the Fibonacci series\n",
        "\n",
        "* Initialize a variable n that denotes the number of elements of the Fibonacci series to be computed\n",
        "* Use a loop to print the first n numbers of the Fibonacci series\n",
        "* Fibonacci series is a recursive series where the `n-th` number in the series is a sum of `n-1`th and `n-2`th element in the series, starting from 0 and 1"
      ]
    },
    {
      "cell_type": "code",
      "execution_count": null,
      "metadata": {
        "id": "mk4bh-OQ5zkF"
      },
      "outputs": [],
      "source": [
        "# COMPLETE CELL BELOW\n",
        "\n",
        "n = 5\n"
      ]
    },
    {
      "cell_type": "markdown",
      "metadata": {
        "id": "X4jARKKw5zkG"
      },
      "source": [
        "### 8. Write a Python Program that defines a function to Remove consonants From a String\n",
        "\n",
        "* You can initialize a string of your choice\n",
        "* Define the function\n",
        "* Use a for loop to remove consonants(any letter other than a,e,i,o,u)"
      ]
    },
    {
      "cell_type": "code",
      "execution_count": null,
      "metadata": {
        "id": "dcyblrqy5zkG"
      },
      "outputs": [],
      "source": [
        "# COMPLETE THE CELL BELOW\n",
        "\n",
        "def removeConsonants(s): # Complete the function\n",
        "\n",
        "my_str = \"Hello, how are you?. I hope you are doing well.\"\n",
        "\n",
        "print(removeConsonants(my_str))"
      ]
    },
    {
      "cell_type": "markdown",
      "metadata": {
        "id": "Zy4NKB5G5zkG"
      },
      "source": [
        "### 9. Define a function that takes two numbers as arguments and returns the sum of all numbers between the arguments passed (exclusive)\n",
        "\n",
        "* You can define a range of your choice\n",
        "* Define the function\n",
        "* Use a for loop to add numbers within the range(exclusive)\n",
        "* Hint - You can also use the formula $1 + 2 + ... + n = \\frac{n(n + 1)}{n+1}$"
      ]
    },
    {
      "cell_type": "code",
      "execution_count": null,
      "metadata": {
        "id": "ARYSvv0Y5zkG"
      },
      "outputs": [],
      "source": [
        "# COMPLETE THE CELL BELOW\n",
        "\n",
        "def sumRange(a, b): # Complete the function using a for loop and range\n",
        "\n",
        "\n",
        "a = 5\n",
        "b = 10\n",
        "total = sumRange(a, b)\n",
        "print(\"Result is\", total)"
      ]
    },
    {
      "cell_type": "markdown",
      "metadata": {
        "id": "pKzVXDzf5zkG"
      },
      "source": [
        "### 10. Define a class named Triangle that defines the methods `area` and `perimeter`\n",
        "\n",
        "* The class can be constructed by the length of the sides. Hint - As arguments of `__init__`\n",
        "* $area = \\sqrt{(s(s-a)(s-b)(s-c)}$ where $s=\\frac{(a+b+c)}{2}$ is the semi-perimeter\n",
        "* $perimeter = a +  b + c$\n",
        "* **Optional** - If there are repeated calls to the `area` and the `perimeter` functions, how would you optimize the code?"
      ]
    },
    {
      "cell_type": "code",
      "execution_count": null,
      "metadata": {
        "id": "jzhKKHTS5zkH"
      },
      "outputs": [],
      "source": [
        "# COMPLETE CELL BELOW\n",
        "\n",
        "\n",
        "\n",
        "\n",
        "\n"
      ]
    },
    {
      "cell_type": "markdown",
      "metadata": {
        "id": "rpRA3tzz5zkH"
      },
      "source": [
        "## Part 2 - NumPy"
      ]
    },
    {
      "cell_type": "code",
      "execution_count": null,
      "metadata": {
        "id": "yKSkZ-Wn5zkH"
      },
      "outputs": [],
      "source": [
        "import numpy as np"
      ]
    },
    {
      "cell_type": "markdown",
      "metadata": {
        "id": "jlpJwnH35zkH"
      },
      "source": [
        "### 11. Random array\n",
        "\n",
        "Generate an integer random numpy array, A, of shape (6,6) with elements from 12 to 22(inclusive). Print the generated random array. (Hint: Look at the documentation of `numpy.random.randint`)"
      ]
    },
    {
      "cell_type": "code",
      "execution_count": null,
      "metadata": {
        "id": "gA-J72tm5zkH"
      },
      "outputs": [],
      "source": []
    },
    {
      "cell_type": "markdown",
      "metadata": {
        "id": "ntL1Sgy65zkH"
      },
      "source": [
        "### 12. Transpose and inverse of the array `A`\n",
        "\n",
        "Print the transpose and inverse of A."
      ]
    },
    {
      "cell_type": "code",
      "execution_count": null,
      "metadata": {
        "id": "htfA71np5zkH"
      },
      "outputs": [],
      "source": []
    },
    {
      "cell_type": "markdown",
      "metadata": {
        "id": "CjWfZnxu5zkH"
      },
      "source": [
        "### 13. Array slicing\n",
        "1. Print the first 3 rows of A."
      ]
    },
    {
      "cell_type": "code",
      "execution_count": null,
      "metadata": {
        "id": "2Qdfk4ms5zkH"
      },
      "outputs": [],
      "source": []
    },
    {
      "cell_type": "markdown",
      "metadata": {
        "id": "R1hN4lY05zkH"
      },
      "source": [
        "2. Print the first 3 columns of A."
      ]
    },
    {
      "cell_type": "code",
      "execution_count": null,
      "metadata": {
        "id": "6-EUTXOC5zkI"
      },
      "outputs": [],
      "source": []
    },
    {
      "cell_type": "markdown",
      "metadata": {
        "id": "G3byGkyk5zkI"
      },
      "source": [
        "### 14. Broadcasting\n",
        "\n",
        "Add this vector `B=[1,2,3,4,5,6]` to all the rows of `A`. (Hint: Use broadcasting)"
      ]
    },
    {
      "cell_type": "code",
      "execution_count": null,
      "metadata": {
        "id": "FmyzNLzX5zkI"
      },
      "outputs": [],
      "source": []
    },
    {
      "cell_type": "markdown",
      "metadata": {
        "id": "5kxL7Zwa5zkI"
      },
      "source": [
        "### 15. Reshaping\n",
        "\n",
        "Add this vector `B=[1,2,3,4,5,6]` to all the columns of `A`. (Hint: Use np.reshape and broadcasting)"
      ]
    },
    {
      "cell_type": "code",
      "execution_count": null,
      "metadata": {
        "id": "GYCosebUlcBR"
      },
      "outputs": [],
      "source": []
    },
    {
      "cell_type": "markdown",
      "metadata": {
        "id": "Tq-OnEbnlcBR"
      },
      "source": [
        "## Final Challenge\n",
        "In this challenge, we are providing you with some noisy data in the file `noisy_data.npy`. Your task is to analyze the data and find the secret message encoded within it. Plotting the data might be useful in your analysis.\n",
        "\n",
        "### Instructions:\n",
        "\n",
        "- Use the provided starter code to plot the data and observe any noticeable patterns or anomalies.\n",
        "\n",
        "- Look for any irregularities or spikes in the data that could indicate encoded information.\n",
        "\n",
        "- Use your findings to extract and decode the hidden message.\n",
        "\n",
        "- Include comments in your code explaining each step.\n",
        "\n",
        "### Hint 1:\n",
        "\n",
        "Look at where spikes occur in the data.\n",
        "\n",
        "### Hint 2:\n",
        "Characters are encoded into 8-bit ASCII (e.g., 'A' = 65 = 01000001).\n",
        "You can use the chr() function to convert ASCII codes to characters."
      ]
    },
    {
      "cell_type": "code",
      "execution_count": null,
      "metadata": {
        "id": "m_-dgjgElcBR"
      },
      "outputs": [],
      "source": [
        "import os\n",
        "import urllib.request\n",
        "import numpy as np\n",
        "import matplotlib.pyplot as plt\n",
        "\n",
        "# 1. Load the data (download if missing)\n",
        "data_path = 'noisy_data.npy'\n",
        "if not os.path.exists(data_path):\n",
        "    url = 'https://raw.githubusercontent.com/DSE200/HW1/main/noisy_data.npy'\n",
        "    try:\n",
        "        urllib.request.urlretrieve(url, data_path)\n",
        "    except Exception as e:\n",
        "        raise RuntimeError(f\"Failed to download {data_path} from {url}: {e}\")\n",
        "\n",
        "data = np.load(data_path)\n",
        "\n",
        "# 2. Plot the data\n"
      ]
    },
    {
      "cell_type": "markdown",
      "metadata": {
        "id": "zQ65OurVlcBR"
      },
      "source": [
        "## Part 2 - Real-World Data Cleaning with Kaggle\n",
        "\n",
        "In this part, you'll work with real-world data from Kaggle. You'll learn to find, access, explore, and clean messy datasets."
      ]
    },
    {
      "cell_type": "markdown",
      "metadata": {
        "id": "O52Pcb_LlcBR"
      },
      "source": [
        "### Setup and Installation\n",
        "\n",
        "First, install the required packages for accessing Kaggle datasets.\n"
      ]
    },
    {
      "cell_type": "code",
      "execution_count": null,
      "metadata": {
        "id": "dkeMarCTlcBR"
      },
      "outputs": [],
      "source": [
        "# Install kagglehub for accessing Kaggle datasets\n",
        "%pip install kagglehub pandas\n"
      ]
    },
    {
      "cell_type": "markdown",
      "metadata": {
        "id": "VZitWJiZlcBR"
      },
      "source": [
        "### Task 1: Find and Load a Dataset\n",
        "\n",
        "Your first task is to find an interesting dataset on Kaggle and load it using kagglehub.\n",
        "\n",
        "**Requirements:**\n",
        "- Choose a dataset with at least 100 rows\n",
        "- The dataset should have multiple columns (at least 3)\n",
        "- It should contain some messy data (missing values, inconsistent formatting, etc.)\n",
        "\n",
        "Use kagglehub to download your chosen dataset. The format is:\n",
        "```python\n",
        "import kagglehub\n",
        "path = kagglehub.dataset_download(\"username/dataset-name\")\n",
        "```\n"
      ]
    },
    {
      "cell_type": "code",
      "execution_count": null,
      "metadata": {
        "id": "_jWaMsNIlcBR"
      },
      "outputs": [],
      "source": [
        "# COMPLETE THE CELL BELOW\n",
        "\n",
        "import kagglehub\n",
        "import pandas as pd\n",
        "import os\n",
        "\n",
        "# Download your chosen dataset\n",
        "# Example: path = kagglehub.dataset_download(\"username/dataset-name\")\n",
        "\n",
        "# Find the CSV file in the downloaded path and load it\n",
        "# Hint: Use os.listdir(path) to see what files were downloaded\n",
        "\n",
        "# Load the data into a pandas DataFrame\n",
        "# df = pd.read_csv(...)\n"
      ]
    },
    {
      "cell_type": "markdown",
      "metadata": {
        "id": "WeyGWVm8lcBR"
      },
      "source": [
        "### Task 2: Initial Data Exploration\n",
        "\n",
        "Explore your dataset to understand its structure and identify data quality issues.\n",
        "\n",
        "Complete the following steps:\n",
        "1. Display basic information about the dataset\n",
        "2. Show the first few rows\n",
        "3. Check data types of each column\n",
        "4. Get summary statistics\n"
      ]
    },
    {
      "cell_type": "code",
      "execution_count": null,
      "metadata": {
        "id": "IkZspYEtlcBR"
      },
      "outputs": [],
      "source": [
        "# COMPLETE THE CELL BELOW\n",
        "\n",
        "# 1. Print the shape of the dataset (rows, columns)\n",
        "print(\"Dataset shape:\", )\n",
        "\n",
        "# 2. Display the first 5 rows\n",
        "print(\"\\nFirst 5 rows:\")\n",
        "\n",
        "# 3. Show information about the dataset (columns, data types, non-null counts)\n",
        "print(\"\\nDataset info:\")\n",
        "\n",
        "# 4. Display summary statistics for numerical columns\n",
        "print(\"\\nSummary statistics:\")\n"
      ]
    },
    {
      "cell_type": "markdown",
      "metadata": {
        "id": "HkdmiB2olcBR"
      },
      "source": [
        "### Task 3: Identify Missing Values\n",
        "\n",
        "Missing data is common in real-world datasets. Let's identify where the missing values are.\n",
        "\n",
        "Complete the following:\n",
        "1. Count missing values in each column\n",
        "2. Calculate the percentage of missing value\n"
      ]
    },
    {
      "cell_type": "code",
      "execution_count": null,
      "metadata": {
        "id": "HimowPT0lcBS"
      },
      "outputs": [],
      "source": [
        "# COMPLETE THE CELL BELOW\n",
        "\n",
        "# 1. Count missing values per column\n",
        "missing_counts =\n",
        "print(\"Missing values per column:\")\n",
        "print(missing_counts)\n",
        "\n",
        "# 2. Calculate percentage of missing values\n",
        "missing_percentage =\n",
        "print(\"\\nPercentage of missing values:\")\n",
        "print(missing_percentage)\n"
      ]
    },
    {
      "cell_type": "markdown",
      "metadata": {
        "id": "s8rsDOfGlcBS"
      },
      "source": [
        "### Task 4: Data Cleaning\n",
        "\n",
        "Now clean the dataset by handling missing values and fixing data quality issues.\n",
        "\n",
        "**Required cleaning steps:**\n",
        "1. Handle missing values (choose appropriate strategies for different columns)\n",
        "2. Fix any formatting inconsistencies you find (clean whitespace, new lines)\n",
        "3. Remove Invalid entries\n",
        "\n"
      ]
    },
    {
      "cell_type": "code",
      "execution_count": null,
      "metadata": {
        "id": "AW0akDtclcBS"
      },
      "outputs": [],
      "source": [
        "# COMPLETE THE CELL BELOW\n",
        "\n",
        "# Create a copy of the dataframe for cleaning\n",
        "df_clean = df.copy()\n",
        "\n",
        "# 1. Handle missing values\n",
        "# Example strategies:\n",
        "# - Drop rows with too many missing values\n",
        "# - Fill numeric columns with mean/median\n",
        "# - Fill categorical columns with mode or 'Unknown'\n",
        "# - Use forward/backward fill for time series data\n",
        "\n",
        "# 2. Fix formatting issues\n",
        "# Look for:\n",
        "# - Extra whitespace in string columns\n",
        "# - Inconsistent capitalization\n",
        "# - Special characters that need cleaning\n",
        "\n",
        "# 3. Remove invalid entries\n",
        "# Check for:\n",
        "# - Negative values where they don't make sense\n",
        "# - Values outside reasonable ranges\n",
        "# - Duplicate rows\n"
      ]
    },
    {
      "cell_type": "markdown",
      "metadata": {
        "id": "O5H6yepDlcBS"
      },
      "source": [
        "### Task 5: Verify Your Cleaning\n",
        "\n",
        "Show that your cleaning was successful by comparing the original and cleaned datasets.\n"
      ]
    },
    {
      "cell_type": "code",
      "execution_count": null,
      "metadata": {
        "id": "vtO5ejbjlcBS"
      },
      "outputs": [],
      "source": [
        "# 1. Compare dataset sizes\n",
        "print(f\"Original dataset shape: {df.shape}\")\n",
        "print(f\"Cleaned dataset shape: {df_clean.shape}\")\n",
        "print(f\"Rows removed: {df.shape[0] - df_clean.shape[0]}\")\n",
        "print(f\"Columns removed: {df.shape[1] - df_clean.shape[1]}\")\n",
        "print(f\"Original number of missing values: {df.isnull().sum().sum()}\")\n",
        "print(f\"Cleaned number of missing values: {df_clean.isnull().sum().sum()}\")\n"
      ]
    }
  ],
  "metadata": {
    "colab": {
      "provenance": [],
      "include_colab_link": true
    },
    "kernelspec": {
      "display_name": ".venv",
      "language": "python",
      "name": "python3"
    },
    "language_info": {
      "codemirror_mode": {
        "name": "ipython",
        "version": 3
      },
      "file_extension": ".py",
      "mimetype": "text/x-python",
      "name": "python",
      "nbconvert_exporter": "python",
      "pygments_lexer": "ipython3",
      "version": "3.11.2"
    }
  },
  "nbformat": 4,
  "nbformat_minor": 0
}